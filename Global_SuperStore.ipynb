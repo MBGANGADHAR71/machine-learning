{
 "cells": [
  {
   "cell_type": "markdown",
   "id": "69c9efcd-9605-445f-9522-08a7d84665cc",
   "metadata": {},
   "source": [
    "'''\r\n",
    "The Global Superstore dataset simulates data from a global retail chain and contains information about sales, customers, products, and orders. The dataset typically includes various attributes such as customer demographics, product categories, sales figures, shipping details, and more\n",
    "'''."
   ]
  },
  {
   "cell_type": "markdown",
   "id": "9373b82a-6608-45e7-87a5-77fab560e3a3",
   "metadata": {},
   "source": [
    "#### Importing numpy and panda libraries"
   ]
  },
  {
   "cell_type": "code",
   "execution_count": 2,
   "id": "46c91f7e-e956-4d12-beea-c63fc2b8c423",
   "metadata": {},
   "outputs": [
    {
     "name": "stdout",
     "output_type": "stream",
     "text": [
      "Defaulting to user installation because normal site-packages is not writeable\n",
      "Requirement already satisfied: xlrd in c:\\users\\mbhas\\appdata\\roaming\\python\\python311\\site-packages (2.0.1)\n"
     ]
    }
   ],
   "source": [
    "import numpy as np\n",
    "import pandas as pd\n",
    "!pip install xlrd"
   ]
  },
  {
   "cell_type": "markdown",
   "id": "aa0517c5-af6b-4927-b4fb-700554ce3749",
   "metadata": {},
   "source": [
    "#### Reading the Excel file"
   ]
  },
  {
   "cell_type": "code",
   "execution_count": 4,
   "id": "30d8404e-dbd0-4482-bb98-795cba5a59b8",
   "metadata": {},
   "outputs": [],
   "source": [
    "df=pd.read_excel(\"C:\\\\Users\\\\mbhas\\\\Desktop\\\\global_superstore\\\\Global Superstore.xls\")"
   ]
  },
  {
   "cell_type": "markdown",
   "id": "6d2c9c9b-0b5e-461b-baa2-a3532445034e",
   "metadata": {},
   "source": [
    "### Data Inspection"
   ]
  },
  {
   "cell_type": "code",
   "execution_count": 6,
   "id": "af7e8943-e7a5-4887-91ef-b1c00382be3b",
   "metadata": {
    "scrolled": true
   },
   "outputs": [
    {
     "data": {
      "text/html": [
       "<div>\n",
       "<style scoped>\n",
       "    .dataframe tbody tr th:only-of-type {\n",
       "        vertical-align: middle;\n",
       "    }\n",
       "\n",
       "    .dataframe tbody tr th {\n",
       "        vertical-align: top;\n",
       "    }\n",
       "\n",
       "    .dataframe thead th {\n",
       "        text-align: right;\n",
       "    }\n",
       "</style>\n",
       "<table border=\"1\" class=\"dataframe\">\n",
       "  <thead>\n",
       "    <tr style=\"text-align: right;\">\n",
       "      <th></th>\n",
       "      <th>Row ID</th>\n",
       "      <th>Order ID</th>\n",
       "      <th>Order Date</th>\n",
       "      <th>Ship Date</th>\n",
       "      <th>Ship Mode</th>\n",
       "      <th>Customer ID</th>\n",
       "      <th>Customer Name</th>\n",
       "      <th>Segment</th>\n",
       "      <th>City</th>\n",
       "      <th>State</th>\n",
       "      <th>...</th>\n",
       "      <th>Product ID</th>\n",
       "      <th>Category</th>\n",
       "      <th>Sub-Category</th>\n",
       "      <th>Product Name</th>\n",
       "      <th>Sales</th>\n",
       "      <th>Quantity</th>\n",
       "      <th>Discount</th>\n",
       "      <th>Profit</th>\n",
       "      <th>Shipping Cost</th>\n",
       "      <th>Order Priority</th>\n",
       "    </tr>\n",
       "  </thead>\n",
       "  <tbody>\n",
       "    <tr>\n",
       "      <th>51285</th>\n",
       "      <td>29002</td>\n",
       "      <td>IN-2014-62366</td>\n",
       "      <td>2014-06-19</td>\n",
       "      <td>2014-06-19</td>\n",
       "      <td>Same Day</td>\n",
       "      <td>KE-16420</td>\n",
       "      <td>Katrina Edelman</td>\n",
       "      <td>Corporate</td>\n",
       "      <td>Kure</td>\n",
       "      <td>Hiroshima</td>\n",
       "      <td>...</td>\n",
       "      <td>OFF-FA-10000746</td>\n",
       "      <td>Office Supplies</td>\n",
       "      <td>Fasteners</td>\n",
       "      <td>Advantus Thumb Tacks, 12 Pack</td>\n",
       "      <td>65.100</td>\n",
       "      <td>5</td>\n",
       "      <td>0.0</td>\n",
       "      <td>4.5000</td>\n",
       "      <td>0.010</td>\n",
       "      <td>Medium</td>\n",
       "    </tr>\n",
       "    <tr>\n",
       "      <th>51286</th>\n",
       "      <td>35398</td>\n",
       "      <td>US-2014-102288</td>\n",
       "      <td>2014-06-20</td>\n",
       "      <td>2014-06-24</td>\n",
       "      <td>Standard Class</td>\n",
       "      <td>ZC-21910</td>\n",
       "      <td>Zuschuss Carroll</td>\n",
       "      <td>Consumer</td>\n",
       "      <td>Houston</td>\n",
       "      <td>Texas</td>\n",
       "      <td>...</td>\n",
       "      <td>OFF-AP-10002906</td>\n",
       "      <td>Office Supplies</td>\n",
       "      <td>Appliances</td>\n",
       "      <td>Hoover Replacement Belt for Commercial Guardsm...</td>\n",
       "      <td>0.444</td>\n",
       "      <td>1</td>\n",
       "      <td>0.8</td>\n",
       "      <td>-1.1100</td>\n",
       "      <td>0.010</td>\n",
       "      <td>Medium</td>\n",
       "    </tr>\n",
       "    <tr>\n",
       "      <th>51287</th>\n",
       "      <td>40470</td>\n",
       "      <td>US-2013-155768</td>\n",
       "      <td>2013-12-02</td>\n",
       "      <td>2013-12-02</td>\n",
       "      <td>Same Day</td>\n",
       "      <td>LB-16795</td>\n",
       "      <td>Laurel Beltran</td>\n",
       "      <td>Home Office</td>\n",
       "      <td>Oxnard</td>\n",
       "      <td>California</td>\n",
       "      <td>...</td>\n",
       "      <td>OFF-EN-10001219</td>\n",
       "      <td>Office Supplies</td>\n",
       "      <td>Envelopes</td>\n",
       "      <td>#10- 4 1/8\" x 9 1/2\" Security-Tint Envelopes</td>\n",
       "      <td>22.920</td>\n",
       "      <td>3</td>\n",
       "      <td>0.0</td>\n",
       "      <td>11.2308</td>\n",
       "      <td>0.010</td>\n",
       "      <td>High</td>\n",
       "    </tr>\n",
       "    <tr>\n",
       "      <th>51288</th>\n",
       "      <td>9596</td>\n",
       "      <td>MX-2012-140767</td>\n",
       "      <td>2012-02-18</td>\n",
       "      <td>2012-02-22</td>\n",
       "      <td>Standard Class</td>\n",
       "      <td>RB-19795</td>\n",
       "      <td>Ross Baird</td>\n",
       "      <td>Home Office</td>\n",
       "      <td>Valinhos</td>\n",
       "      <td>São Paulo</td>\n",
       "      <td>...</td>\n",
       "      <td>OFF-BI-10000806</td>\n",
       "      <td>Office Supplies</td>\n",
       "      <td>Binders</td>\n",
       "      <td>Acco Index Tab, Economy</td>\n",
       "      <td>13.440</td>\n",
       "      <td>2</td>\n",
       "      <td>0.0</td>\n",
       "      <td>2.4000</td>\n",
       "      <td>0.003</td>\n",
       "      <td>Medium</td>\n",
       "    </tr>\n",
       "    <tr>\n",
       "      <th>51289</th>\n",
       "      <td>6147</td>\n",
       "      <td>MX-2012-134460</td>\n",
       "      <td>2012-05-22</td>\n",
       "      <td>2012-05-26</td>\n",
       "      <td>Second Class</td>\n",
       "      <td>MC-18100</td>\n",
       "      <td>Mick Crebagga</td>\n",
       "      <td>Consumer</td>\n",
       "      <td>Tipitapa</td>\n",
       "      <td>Managua</td>\n",
       "      <td>...</td>\n",
       "      <td>OFF-PA-10004155</td>\n",
       "      <td>Office Supplies</td>\n",
       "      <td>Paper</td>\n",
       "      <td>Eaton Computer Printout Paper, 8.5 x 11</td>\n",
       "      <td>61.380</td>\n",
       "      <td>3</td>\n",
       "      <td>0.0</td>\n",
       "      <td>1.8000</td>\n",
       "      <td>0.002</td>\n",
       "      <td>High</td>\n",
       "    </tr>\n",
       "  </tbody>\n",
       "</table>\n",
       "<p>5 rows × 24 columns</p>\n",
       "</div>"
      ],
      "text/plain": [
       "       Row ID        Order ID Order Date  Ship Date       Ship Mode  \\\n",
       "51285   29002   IN-2014-62366 2014-06-19 2014-06-19        Same Day   \n",
       "51286   35398  US-2014-102288 2014-06-20 2014-06-24  Standard Class   \n",
       "51287   40470  US-2013-155768 2013-12-02 2013-12-02        Same Day   \n",
       "51288    9596  MX-2012-140767 2012-02-18 2012-02-22  Standard Class   \n",
       "51289    6147  MX-2012-134460 2012-05-22 2012-05-26    Second Class   \n",
       "\n",
       "      Customer ID     Customer Name      Segment      City       State  ...  \\\n",
       "51285    KE-16420   Katrina Edelman    Corporate      Kure   Hiroshima  ...   \n",
       "51286    ZC-21910  Zuschuss Carroll     Consumer   Houston       Texas  ...   \n",
       "51287    LB-16795    Laurel Beltran  Home Office    Oxnard  California  ...   \n",
       "51288    RB-19795        Ross Baird  Home Office  Valinhos   São Paulo  ...   \n",
       "51289    MC-18100     Mick Crebagga     Consumer  Tipitapa     Managua  ...   \n",
       "\n",
       "            Product ID         Category Sub-Category  \\\n",
       "51285  OFF-FA-10000746  Office Supplies    Fasteners   \n",
       "51286  OFF-AP-10002906  Office Supplies   Appliances   \n",
       "51287  OFF-EN-10001219  Office Supplies    Envelopes   \n",
       "51288  OFF-BI-10000806  Office Supplies      Binders   \n",
       "51289  OFF-PA-10004155  Office Supplies        Paper   \n",
       "\n",
       "                                            Product Name   Sales Quantity  \\\n",
       "51285                      Advantus Thumb Tacks, 12 Pack  65.100        5   \n",
       "51286  Hoover Replacement Belt for Commercial Guardsm...   0.444        1   \n",
       "51287       #10- 4 1/8\" x 9 1/2\" Security-Tint Envelopes  22.920        3   \n",
       "51288                            Acco Index Tab, Economy  13.440        2   \n",
       "51289            Eaton Computer Printout Paper, 8.5 x 11  61.380        3   \n",
       "\n",
       "      Discount   Profit  Shipping Cost  Order Priority  \n",
       "51285      0.0   4.5000          0.010          Medium  \n",
       "51286      0.8  -1.1100          0.010          Medium  \n",
       "51287      0.0  11.2308          0.010            High  \n",
       "51288      0.0   2.4000          0.003          Medium  \n",
       "51289      0.0   1.8000          0.002            High  \n",
       "\n",
       "[5 rows x 24 columns]"
      ]
     },
     "execution_count": 6,
     "metadata": {},
     "output_type": "execute_result"
    }
   ],
   "source": [
    "df.tail()"
   ]
  },
  {
   "cell_type": "markdown",
   "id": "9a77231e-11a1-424b-bea6-5aad1bc83043",
   "metadata": {},
   "source": [
    "#Number of rows and columns in a dataset"
   ]
  },
  {
   "cell_type": "code",
   "execution_count": 8,
   "id": "d6053ec6-5e69-4934-85a4-b23045080876",
   "metadata": {},
   "outputs": [
    {
     "data": {
      "text/plain": [
       "(51290, 24)"
      ]
     },
     "execution_count": 8,
     "metadata": {},
     "output_type": "execute_result"
    }
   ],
   "source": [
    "df.shape"
   ]
  },
  {
   "cell_type": "code",
   "execution_count": 10,
   "id": "1a3d0754-b90e-426d-bfe4-5406690e01ab",
   "metadata": {},
   "outputs": [
    {
     "data": {
      "text/plain": [
       "Index(['Row ID', 'Order ID', 'Order Date', 'Ship Date', 'Ship Mode',\n",
       "       'Customer ID', 'Customer Name', 'Segment', 'City', 'State', 'Country',\n",
       "       'Postal Code', 'Market', 'Region', 'Product ID', 'Category',\n",
       "       'Sub-Category', 'Product Name', 'Sales', 'Quantity', 'Discount',\n",
       "       'Profit', 'Shipping Cost', 'Order Priority'],\n",
       "      dtype='object')"
      ]
     },
     "execution_count": 10,
     "metadata": {},
     "output_type": "execute_result"
    }
   ],
   "source": [
    "df.columns"
   ]
  },
  {
   "cell_type": "markdown",
   "id": "f9347f8f-6e0a-44c7-847b-2ae43167fc48",
   "metadata": {},
   "source": [
    "#Summary of number of entries and data type of each column"
   ]
  },
  {
   "cell_type": "code",
   "execution_count": 12,
   "id": "37a7fc7f-d387-440f-b423-1943543edfd2",
   "metadata": {},
   "outputs": [
    {
     "name": "stdout",
     "output_type": "stream",
     "text": [
      "<class 'pandas.core.frame.DataFrame'>\n",
      "RangeIndex: 51290 entries, 0 to 51289\n",
      "Data columns (total 24 columns):\n",
      " #   Column          Non-Null Count  Dtype         \n",
      "---  ------          --------------  -----         \n",
      " 0   Row ID          51290 non-null  int64         \n",
      " 1   Order ID        51290 non-null  object        \n",
      " 2   Order Date      51290 non-null  datetime64[ns]\n",
      " 3   Ship Date       51290 non-null  datetime64[ns]\n",
      " 4   Ship Mode       51290 non-null  object        \n",
      " 5   Customer ID     51290 non-null  object        \n",
      " 6   Customer Name   51290 non-null  object        \n",
      " 7   Segment         51290 non-null  object        \n",
      " 8   City            51290 non-null  object        \n",
      " 9   State           51290 non-null  object        \n",
      " 10  Country         51290 non-null  object        \n",
      " 11  Postal Code     9994 non-null   float64       \n",
      " 12  Market          51290 non-null  object        \n",
      " 13  Region          51290 non-null  object        \n",
      " 14  Product ID      51290 non-null  object        \n",
      " 15  Category        51290 non-null  object        \n",
      " 16  Sub-Category    51290 non-null  object        \n",
      " 17  Product Name    51290 non-null  object        \n",
      " 18  Sales           51290 non-null  float64       \n",
      " 19  Quantity        51290 non-null  int64         \n",
      " 20  Discount        51290 non-null  float64       \n",
      " 21  Profit          51290 non-null  float64       \n",
      " 22  Shipping Cost   51290 non-null  float64       \n",
      " 23  Order Priority  51290 non-null  object        \n",
      "dtypes: datetime64[ns](2), float64(5), int64(2), object(15)\n",
      "memory usage: 9.4+ MB\n"
     ]
    }
   ],
   "source": [
    "df.info()"
   ]
  },
  {
   "cell_type": "markdown",
   "id": "01632b18-0e28-47b9-bbc6-6a4e9671b0b7",
   "metadata": {},
   "source": [
    "#Statistical summary of numerical columns"
   ]
  },
  {
   "cell_type": "code",
   "execution_count": 14,
   "id": "99820b47-66eb-4c19-bdaa-5acae41ca48b",
   "metadata": {},
   "outputs": [
    {
     "data": {
      "text/html": [
       "<div>\n",
       "<style scoped>\n",
       "    .dataframe tbody tr th:only-of-type {\n",
       "        vertical-align: middle;\n",
       "    }\n",
       "\n",
       "    .dataframe tbody tr th {\n",
       "        vertical-align: top;\n",
       "    }\n",
       "\n",
       "    .dataframe thead th {\n",
       "        text-align: right;\n",
       "    }\n",
       "</style>\n",
       "<table border=\"1\" class=\"dataframe\">\n",
       "  <thead>\n",
       "    <tr style=\"text-align: right;\">\n",
       "      <th></th>\n",
       "      <th>Row ID</th>\n",
       "      <th>Order Date</th>\n",
       "      <th>Ship Date</th>\n",
       "      <th>Postal Code</th>\n",
       "      <th>Sales</th>\n",
       "      <th>Quantity</th>\n",
       "      <th>Discount</th>\n",
       "      <th>Profit</th>\n",
       "      <th>Shipping Cost</th>\n",
       "    </tr>\n",
       "  </thead>\n",
       "  <tbody>\n",
       "    <tr>\n",
       "      <th>count</th>\n",
       "      <td>51290.00000</td>\n",
       "      <td>51290</td>\n",
       "      <td>51290</td>\n",
       "      <td>9994.000000</td>\n",
       "      <td>51290.000000</td>\n",
       "      <td>51290.000000</td>\n",
       "      <td>51290.000000</td>\n",
       "      <td>51290.000000</td>\n",
       "      <td>51290.000000</td>\n",
       "    </tr>\n",
       "    <tr>\n",
       "      <th>mean</th>\n",
       "      <td>25645.50000</td>\n",
       "      <td>2013-05-11 21:26:49.155781120</td>\n",
       "      <td>2013-05-15 20:42:42.745174528</td>\n",
       "      <td>55190.379428</td>\n",
       "      <td>246.490581</td>\n",
       "      <td>3.476545</td>\n",
       "      <td>0.142908</td>\n",
       "      <td>28.610982</td>\n",
       "      <td>26.375818</td>\n",
       "    </tr>\n",
       "    <tr>\n",
       "      <th>min</th>\n",
       "      <td>1.00000</td>\n",
       "      <td>2011-01-01 00:00:00</td>\n",
       "      <td>2011-01-03 00:00:00</td>\n",
       "      <td>1040.000000</td>\n",
       "      <td>0.444000</td>\n",
       "      <td>1.000000</td>\n",
       "      <td>0.000000</td>\n",
       "      <td>-6599.978000</td>\n",
       "      <td>0.002000</td>\n",
       "    </tr>\n",
       "    <tr>\n",
       "      <th>25%</th>\n",
       "      <td>12823.25000</td>\n",
       "      <td>2012-06-19 00:00:00</td>\n",
       "      <td>2012-06-23 00:00:00</td>\n",
       "      <td>23223.000000</td>\n",
       "      <td>30.758625</td>\n",
       "      <td>2.000000</td>\n",
       "      <td>0.000000</td>\n",
       "      <td>0.000000</td>\n",
       "      <td>2.610000</td>\n",
       "    </tr>\n",
       "    <tr>\n",
       "      <th>50%</th>\n",
       "      <td>25645.50000</td>\n",
       "      <td>2013-07-08 00:00:00</td>\n",
       "      <td>2013-07-12 00:00:00</td>\n",
       "      <td>56430.500000</td>\n",
       "      <td>85.053000</td>\n",
       "      <td>3.000000</td>\n",
       "      <td>0.000000</td>\n",
       "      <td>9.240000</td>\n",
       "      <td>7.790000</td>\n",
       "    </tr>\n",
       "    <tr>\n",
       "      <th>75%</th>\n",
       "      <td>38467.75000</td>\n",
       "      <td>2014-05-22 00:00:00</td>\n",
       "      <td>2014-05-26 00:00:00</td>\n",
       "      <td>90008.000000</td>\n",
       "      <td>251.053200</td>\n",
       "      <td>5.000000</td>\n",
       "      <td>0.200000</td>\n",
       "      <td>36.810000</td>\n",
       "      <td>24.450000</td>\n",
       "    </tr>\n",
       "    <tr>\n",
       "      <th>max</th>\n",
       "      <td>51290.00000</td>\n",
       "      <td>2014-12-31 00:00:00</td>\n",
       "      <td>2015-01-07 00:00:00</td>\n",
       "      <td>99301.000000</td>\n",
       "      <td>22638.480000</td>\n",
       "      <td>14.000000</td>\n",
       "      <td>0.850000</td>\n",
       "      <td>8399.976000</td>\n",
       "      <td>933.570000</td>\n",
       "    </tr>\n",
       "    <tr>\n",
       "      <th>std</th>\n",
       "      <td>14806.29199</td>\n",
       "      <td>NaN</td>\n",
       "      <td>NaN</td>\n",
       "      <td>32063.693350</td>\n",
       "      <td>487.565361</td>\n",
       "      <td>2.278766</td>\n",
       "      <td>0.212280</td>\n",
       "      <td>174.340972</td>\n",
       "      <td>57.296810</td>\n",
       "    </tr>\n",
       "  </tbody>\n",
       "</table>\n",
       "</div>"
      ],
      "text/plain": [
       "            Row ID                     Order Date  \\\n",
       "count  51290.00000                          51290   \n",
       "mean   25645.50000  2013-05-11 21:26:49.155781120   \n",
       "min        1.00000            2011-01-01 00:00:00   \n",
       "25%    12823.25000            2012-06-19 00:00:00   \n",
       "50%    25645.50000            2013-07-08 00:00:00   \n",
       "75%    38467.75000            2014-05-22 00:00:00   \n",
       "max    51290.00000            2014-12-31 00:00:00   \n",
       "std    14806.29199                            NaN   \n",
       "\n",
       "                           Ship Date   Postal Code         Sales  \\\n",
       "count                          51290   9994.000000  51290.000000   \n",
       "mean   2013-05-15 20:42:42.745174528  55190.379428    246.490581   \n",
       "min              2011-01-03 00:00:00   1040.000000      0.444000   \n",
       "25%              2012-06-23 00:00:00  23223.000000     30.758625   \n",
       "50%              2013-07-12 00:00:00  56430.500000     85.053000   \n",
       "75%              2014-05-26 00:00:00  90008.000000    251.053200   \n",
       "max              2015-01-07 00:00:00  99301.000000  22638.480000   \n",
       "std                              NaN  32063.693350    487.565361   \n",
       "\n",
       "           Quantity      Discount        Profit  Shipping Cost  \n",
       "count  51290.000000  51290.000000  51290.000000   51290.000000  \n",
       "mean       3.476545      0.142908     28.610982      26.375818  \n",
       "min        1.000000      0.000000  -6599.978000       0.002000  \n",
       "25%        2.000000      0.000000      0.000000       2.610000  \n",
       "50%        3.000000      0.000000      9.240000       7.790000  \n",
       "75%        5.000000      0.200000     36.810000      24.450000  \n",
       "max       14.000000      0.850000   8399.976000     933.570000  \n",
       "std        2.278766      0.212280    174.340972      57.296810  "
      ]
     },
     "execution_count": 14,
     "metadata": {},
     "output_type": "execute_result"
    }
   ],
   "source": [
    "df.describe()"
   ]
  },
  {
   "cell_type": "markdown",
   "id": "dec40ea0-116f-4809-b267-3e6297127443",
   "metadata": {},
   "source": [
    "#Statistical summary of categorical columns"
   ]
  },
  {
   "cell_type": "code",
   "execution_count": 16,
   "id": "be191f46-6547-4d49-aa95-20a8d5552953",
   "metadata": {},
   "outputs": [
    {
     "data": {
      "text/html": [
       "<div>\n",
       "<style scoped>\n",
       "    .dataframe tbody tr th:only-of-type {\n",
       "        vertical-align: middle;\n",
       "    }\n",
       "\n",
       "    .dataframe tbody tr th {\n",
       "        vertical-align: top;\n",
       "    }\n",
       "\n",
       "    .dataframe thead th {\n",
       "        text-align: right;\n",
       "    }\n",
       "</style>\n",
       "<table border=\"1\" class=\"dataframe\">\n",
       "  <thead>\n",
       "    <tr style=\"text-align: right;\">\n",
       "      <th></th>\n",
       "      <th>Order ID</th>\n",
       "      <th>Ship Mode</th>\n",
       "      <th>Customer ID</th>\n",
       "      <th>Customer Name</th>\n",
       "      <th>Segment</th>\n",
       "      <th>City</th>\n",
       "      <th>State</th>\n",
       "      <th>Country</th>\n",
       "      <th>Market</th>\n",
       "      <th>Region</th>\n",
       "      <th>Product ID</th>\n",
       "      <th>Category</th>\n",
       "      <th>Sub-Category</th>\n",
       "      <th>Product Name</th>\n",
       "      <th>Order Priority</th>\n",
       "    </tr>\n",
       "  </thead>\n",
       "  <tbody>\n",
       "    <tr>\n",
       "      <th>count</th>\n",
       "      <td>51290</td>\n",
       "      <td>51290</td>\n",
       "      <td>51290</td>\n",
       "      <td>51290</td>\n",
       "      <td>51290</td>\n",
       "      <td>51290</td>\n",
       "      <td>51290</td>\n",
       "      <td>51290</td>\n",
       "      <td>51290</td>\n",
       "      <td>51290</td>\n",
       "      <td>51290</td>\n",
       "      <td>51290</td>\n",
       "      <td>51290</td>\n",
       "      <td>51290</td>\n",
       "      <td>51290</td>\n",
       "    </tr>\n",
       "    <tr>\n",
       "      <th>unique</th>\n",
       "      <td>25035</td>\n",
       "      <td>4</td>\n",
       "      <td>1590</td>\n",
       "      <td>795</td>\n",
       "      <td>3</td>\n",
       "      <td>3636</td>\n",
       "      <td>1094</td>\n",
       "      <td>147</td>\n",
       "      <td>7</td>\n",
       "      <td>13</td>\n",
       "      <td>10292</td>\n",
       "      <td>3</td>\n",
       "      <td>17</td>\n",
       "      <td>3788</td>\n",
       "      <td>4</td>\n",
       "    </tr>\n",
       "    <tr>\n",
       "      <th>top</th>\n",
       "      <td>CA-2014-100111</td>\n",
       "      <td>Standard Class</td>\n",
       "      <td>PO-18850</td>\n",
       "      <td>Muhammed Yedwab</td>\n",
       "      <td>Consumer</td>\n",
       "      <td>New York City</td>\n",
       "      <td>California</td>\n",
       "      <td>United States</td>\n",
       "      <td>APAC</td>\n",
       "      <td>Central</td>\n",
       "      <td>OFF-AR-10003651</td>\n",
       "      <td>Office Supplies</td>\n",
       "      <td>Binders</td>\n",
       "      <td>Staples</td>\n",
       "      <td>Medium</td>\n",
       "    </tr>\n",
       "    <tr>\n",
       "      <th>freq</th>\n",
       "      <td>14</td>\n",
       "      <td>30775</td>\n",
       "      <td>97</td>\n",
       "      <td>108</td>\n",
       "      <td>26518</td>\n",
       "      <td>915</td>\n",
       "      <td>2001</td>\n",
       "      <td>9994</td>\n",
       "      <td>11002</td>\n",
       "      <td>11117</td>\n",
       "      <td>35</td>\n",
       "      <td>31273</td>\n",
       "      <td>6152</td>\n",
       "      <td>227</td>\n",
       "      <td>29433</td>\n",
       "    </tr>\n",
       "  </tbody>\n",
       "</table>\n",
       "</div>"
      ],
      "text/plain": [
       "              Order ID       Ship Mode Customer ID    Customer Name   Segment  \\\n",
       "count            51290           51290       51290            51290     51290   \n",
       "unique           25035               4        1590              795         3   \n",
       "top     CA-2014-100111  Standard Class    PO-18850  Muhammed Yedwab  Consumer   \n",
       "freq                14           30775          97              108     26518   \n",
       "\n",
       "                 City       State        Country Market   Region  \\\n",
       "count           51290       51290          51290  51290    51290   \n",
       "unique           3636        1094            147      7       13   \n",
       "top     New York City  California  United States   APAC  Central   \n",
       "freq              915        2001           9994  11002    11117   \n",
       "\n",
       "             Product ID         Category Sub-Category Product Name  \\\n",
       "count             51290            51290        51290        51290   \n",
       "unique            10292                3           17         3788   \n",
       "top     OFF-AR-10003651  Office Supplies      Binders      Staples   \n",
       "freq                 35            31273         6152          227   \n",
       "\n",
       "       Order Priority  \n",
       "count           51290  \n",
       "unique              4  \n",
       "top            Medium  \n",
       "freq            29433  "
      ]
     },
     "execution_count": 16,
     "metadata": {},
     "output_type": "execute_result"
    }
   ],
   "source": [
    "df.describe(include='object')"
   ]
  },
  {
   "cell_type": "markdown",
   "id": "ed92651a-98dc-4c77-873a-3b5fa443ce8b",
   "metadata": {},
   "source": [
    "#Counts the number of duplicated rows in the DataFrame  and outputs the count of True and False values."
   ]
  },
  {
   "cell_type": "code",
   "execution_count": 18,
   "id": "3ab3b6fc-a677-4db8-80ff-5955d636f7ab",
   "metadata": {},
   "outputs": [
    {
     "data": {
      "text/plain": [
       "False    51290\n",
       "Name: count, dtype: int64"
      ]
     },
     "execution_count": 18,
     "metadata": {},
     "output_type": "execute_result"
    }
   ],
   "source": [
    "df.duplicated().value_counts()"
   ]
  },
  {
   "cell_type": "markdown",
   "id": "40f53f78-819d-4d2d-8f93-4bd5e0642b62",
   "metadata": {},
   "source": [
    "#Counts the mumber of missing values in each column"
   ]
  },
  {
   "cell_type": "code",
   "execution_count": 20,
   "id": "abf24cfb-d663-4c12-b17a-05774e4d8f0c",
   "metadata": {},
   "outputs": [
    {
     "data": {
      "text/plain": [
       "Row ID                0\n",
       "Order ID              0\n",
       "Order Date            0\n",
       "Ship Date             0\n",
       "Ship Mode             0\n",
       "Customer ID           0\n",
       "Customer Name         0\n",
       "Segment               0\n",
       "City                  0\n",
       "State                 0\n",
       "Country               0\n",
       "Postal Code       41296\n",
       "Market                0\n",
       "Region                0\n",
       "Product ID            0\n",
       "Category              0\n",
       "Sub-Category          0\n",
       "Product Name          0\n",
       "Sales                 0\n",
       "Quantity              0\n",
       "Discount              0\n",
       "Profit                0\n",
       "Shipping Cost         0\n",
       "Order Priority        0\n",
       "dtype: int64"
      ]
     },
     "execution_count": 20,
     "metadata": {},
     "output_type": "execute_result"
    }
   ],
   "source": [
    "df.isnull().sum()"
   ]
  },
  {
   "cell_type": "markdown",
   "id": "a5611e22-0c27-4742-abf0-481f8db49288",
   "metadata": {},
   "source": [
    "### Data Visulaization"
   ]
  },
  {
   "cell_type": "code",
   "execution_count": 24,
   "id": "eec263c9-6522-4efa-9daf-df0561a5619c",
   "metadata": {},
   "outputs": [],
   "source": [
    "import matplotlib.pyplot as plt\n",
    "import seaborn as sns"
   ]
  },
  {
   "cell_type": "markdown",
   "id": "5f029a20-6cf0-4b98-9a47-c2e34680db8c",
   "metadata": {},
   "source": [
    "####  visualize the distribution of a continuous variable using boxplot and histogram"
   ]
  },
  {
   "cell_type": "code",
   "execution_count": 26,
   "id": "ee07892a-b0e6-40cc-9fb7-252b4541d3d8",
   "metadata": {},
   "outputs": [
    {
     "name": "stderr",
     "output_type": "stream",
     "text": [
      "C:\\ProgramData\\anaconda3\\Lib\\site-packages\\seaborn\\_oldcore.py:1119: FutureWarning: use_inf_as_na option is deprecated and will be removed in a future version. Convert inf values to NaN before operating instead.\n",
      "  with pd.option_context('mode.use_inf_as_na', True):\n",
      "C:\\ProgramData\\anaconda3\\Lib\\site-packages\\seaborn\\_oldcore.py:1119: FutureWarning: use_inf_as_na option is deprecated and will be removed in a future version. Convert inf values to NaN before operating instead.\n",
      "  with pd.option_context('mode.use_inf_as_na', True):\n",
      "C:\\ProgramData\\anaconda3\\Lib\\site-packages\\seaborn\\_oldcore.py:1119: FutureWarning: use_inf_as_na option is deprecated and will be removed in a future version. Convert inf values to NaN before operating instead.\n",
      "  with pd.option_context('mode.use_inf_as_na', True):\n",
      "C:\\ProgramData\\anaconda3\\Lib\\site-packages\\seaborn\\_oldcore.py:1119: FutureWarning: use_inf_as_na option is deprecated and will be removed in a future version. Convert inf values to NaN before operating instead.\n",
      "  with pd.option_context('mode.use_inf_as_na', True):\n",
      "C:\\ProgramData\\anaconda3\\Lib\\site-packages\\seaborn\\_oldcore.py:1119: FutureWarning: use_inf_as_na option is deprecated and will be removed in a future version. Convert inf values to NaN before operating instead.\n",
      "  with pd.option_context('mode.use_inf_as_na', True):\n"
     ]
    },
    {
     "data": {
      "image/png": "[encoded data removed]",
      "text/plain": [
       "<Figure size 1000x400 with 2 Axes>"
      ]
     },
     "metadata": {},
     "output_type": "display_data"
    },
    {
     "data": {
      "image/png": "[encoded data removed]",
      "text/plain": [
       "<Figure size 1000x400 with 2 Axes>"
      ]
     },
     "metadata": {},
     "output_type": "display_data"
    },
    {
     "data": {
      "image/png": "[encoded data removed]",
      "text/plain": [
       "<Figure size 1000x400 with 2 Axes>"
      ]
     },
     "metadata": {},
     "output_type": "display_data"
    },
    {
     "data": {
      "image/png": "[encoded data removed]",
      "text/plain": [
       "<Figure size 1000x400 with 2 Axes>"
      ]
     },
     "metadata": {},
     "output_type": "display_data"
    },
    {
     "data": {
      "image/png": "[encoded data removed]",
      "text/plain": [
       "<Figure size 1000x400 with 2 Axes>"
      ]
     },
     "metadata": {},
     "output_type": "display_data"
    }
   ],
   "source": [
    "def cont_visua(col):\n",
    "    fig,ax=plt.subplots(ncols=2,nrows=1,figsize=(10,4))\n",
    "    sns.boxplot(data=df,x=col,ax=ax[0])\n",
    "    sns.histplot(data=df,x=col,kde=True,bins=20,ax=ax[1])\n",
    "    plt.subplots_adjust(wspace=0.6)\n",
    "\n",
    "cont_visua('Sales')\n",
    "cont_visua('Quantity')\n",
    "cont_visua('Discount')\n",
    "cont_visua('Profit')\n",
    "cont_visua('Shipping Cost')\n"
   ]
  },
  {
   "cell_type": "markdown",
   "id": "e40a5604-8249-4d23-aaea-963de274186d",
   "metadata": {},
   "source": [
    "'''\r",
    "\"After visualizing the continuous data columns using box and histogram plots, we've noticed a notable presence of outliers. This suggests that there may be significant deviations from the central tendency within these variables, potentially indicating interesting patterns or anomalies within the data\"\n",
    "'''"
   ]
  },
  {
   "cell_type": "markdown",
   "id": "eafc3d08-b850-4f0a-bfe6-85027b9a75e2",
   "metadata": {},
   "source": [
    "### Data Cleaning"
   ]
  },
  {
   "cell_type": "code",
   "execution_count": 28,
   "id": "bed78ae9-0735-4eff-b22c-88ebe6cf67a1",
   "metadata": {},
   "outputs": [
    {
     "data": {
      "text/plain": [
       "['Row ID',\n",
       " 'Order Date',\n",
       " 'Ship Date',\n",
       " 'Postal Code',\n",
       " 'Sales',\n",
       " 'Quantity',\n",
       " 'Discount',\n",
       " 'Profit',\n",
       " 'Shipping Cost']"
      ]
     },
     "execution_count": 28,
     "metadata": {},
     "output_type": "execute_result"
    }
   ],
   "source": [
    "cate_columns=[]\n",
    "cont_columns=[]\n",
    "for i in df.columns:\n",
    "    if df[i].dtype=='O':\n",
    "        cate_columns.append(i)\n",
    "    else:\n",
    "        cont_columns.append(i)\n",
    "\n",
    "cont_columns"
   ]
  },
  {
   "cell_type": "code",
   "execution_count": 31,
   "id": "4b0596dc-3d69-49da-b461-8f58fb119e14",
   "metadata": {},
   "outputs": [],
   "source": [
    "out_col=['Sales','Quantity','Discount','Shipping Cost']"
   ]
  },
  {
   "cell_type": "code",
   "execution_count": 30,
   "id": "1be8d188-2b72-4320-8823-90ccc5dab0bb",
   "metadata": {},
   "outputs": [
    {
     "name": "stdout",
     "output_type": "stream",
     "text": [
      "Column Sales outliers dropped: 11.03%\n",
      "Column Quantity outliers dropped: 1.71%\n",
      "Column Discount outliers dropped: 8.13%\n",
      "Column Shipping Cost outliers dropped: 11.52%\n"
     ]
    },
    {
     "name": "stderr",
     "output_type": "stream",
     "text": [
      "C:\\Users\\mbhas\\AppData\\Local\\Temp\\ipykernel_15212\\3339931989.py:11: UserWarning: Boolean Series key will be reindexed to match DataFrame index.\n",
      "  df1 = df1[df[k].isin(v_col)]\n",
      "C:\\Users\\mbhas\\AppData\\Local\\Temp\\ipykernel_15212\\3339931989.py:11: UserWarning: Boolean Series key will be reindexed to match DataFrame index.\n",
      "  df1 = df1[df[k].isin(v_col)]\n",
      "C:\\Users\\mbhas\\AppData\\Local\\Temp\\ipykernel_15212\\3339931989.py:11: UserWarning: Boolean Series key will be reindexed to match DataFrame index.\n",
      "  df1 = df1[df[k].isin(v_col)]\n"
     ]
    }
   ],
   "source": [
    "df1=df.copy()\n",
    "for k,v in df[out_col].items():\n",
    "    q1 = v.quantile(0.25)\n",
    "    q3 = v.quantile(0.75)\n",
    "    iqr = q3 - q1\n",
    "    lower_bound = q1 - 1.5 * iqr\n",
    "    upper_bound = q3 + 1.5 * iqr\n",
    "    v_col = v[(v >= lower_bound) & (v <= upper_bound)]\n",
    "    \n",
    "    # Dropping outliers from the original DataFrame\n",
    "    df1 = df1[df[k].isin(v_col)]\n",
    "    \n",
    "    # Calculate the percentage of outliers\n",
    "    perc = (len(v) - len(v_col)) * 100 / len(df)\n",
    "    print('Column {} outliers dropped: {:.2f}%'.format(k,perc))"
   ]
  },
  {
   "cell_type": "markdown",
   "id": "6a652b6f-566a-4834-8044-92d7030fa89f",
   "metadata": {},
   "source": [
    "Checking the number of rows after removing outliers"
   ]
  },
  {
   "cell_type": "code",
   "execution_count": 32,
   "id": "2bac4a52-0af9-4ce2-9a5d-6539012f4262",
   "metadata": {},
   "outputs": [
    {
     "data": {
      "text/plain": [
       "(39492, 24)"
      ]
     },
     "execution_count": 32,
     "metadata": {},
     "output_type": "execute_result"
    }
   ],
   "source": [
    "df1.shape"
   ]
  },
  {
   "cell_type": "code",
   "execution_count": 33,
   "id": "77f94a07-3bd3-4859-8d25-68dd24c4991b",
   "metadata": {},
   "outputs": [
    {
     "data": {
      "text/plain": [
       "(51290, 24)"
      ]
     },
     "execution_count": 33,
     "metadata": {},
     "output_type": "execute_result"
    }
   ],
   "source": [
    "df.shape"
   ]
  },
  {
   "cell_type": "code",
   "execution_count": 42,
   "id": "3418804c-e123-4e6c-bb17-329a39b8a08b",
   "metadata": {},
   "outputs": [],
   "source": [
    "df1['Postal Code']=df1['Postal Code'].astype(str)"
   ]
  },
  {
   "cell_type": "code",
   "execution_count": 34,
   "id": "ec266b0f-d157-4d7a-acdd-3d0ff1af7433",
   "metadata": {},
   "outputs": [
    {
     "data": {
      "text/plain": [
       "Index(['Postal Code', 'Sales', 'Quantity', 'Discount', 'Profit',\n",
       "       'Shipping Cost'],\n",
       "      dtype='object')"
      ]
     },
     "execution_count": 34,
     "metadata": {},
     "output_type": "execute_result"
    }
   ],
   "source": [
    "df1.drop('Row ID',axis=1,inplace=True)\n",
    "cont_columns=df1.select_dtypes(include=['number']).columns\n",
    "cont_columns"
   ]
  },
  {
   "cell_type": "code",
   "execution_count": 35,
   "id": "789cf188-410e-4fcc-b73e-f5add4963a23",
   "metadata": {},
   "outputs": [
    {
     "data": {
      "text/plain": [
       "(39492,)"
      ]
     },
     "execution_count": 35,
     "metadata": {},
     "output_type": "execute_result"
    }
   ],
   "source": [
    "df1['Sales'].shape"
   ]
  },
  {
   "cell_type": "markdown",
   "id": "5b564713-5068-4f6c-9480-12cf83508f3f",
   "metadata": {},
   "source": [
    "## Scaling\n"
   ]
  },
  {
   "cell_type": "code",
   "execution_count": 36,
   "id": "6dc49de1-c2ec-4c1a-b965-73538efd9f50",
   "metadata": {},
   "outputs": [
    {
     "data": {
      "text/html": [
       "<div>\n",
       "<style scoped>\n",
       "    .dataframe tbody tr th:only-of-type {\n",
       "        vertical-align: middle;\n",
       "    }\n",
       "\n",
       "    .dataframe tbody tr th {\n",
       "        vertical-align: top;\n",
       "    }\n",
       "\n",
       "    .dataframe thead th {\n",
       "        text-align: right;\n",
       "    }\n",
       "</style>\n",
       "<table border=\"1\" class=\"dataframe\">\n",
       "  <thead>\n",
       "    <tr style=\"text-align: right;\">\n",
       "      <th></th>\n",
       "      <th>Order ID</th>\n",
       "      <th>Order Date</th>\n",
       "      <th>Ship Date</th>\n",
       "      <th>Ship Mode</th>\n",
       "      <th>Customer ID</th>\n",
       "      <th>Customer Name</th>\n",
       "      <th>Segment</th>\n",
       "      <th>City</th>\n",
       "      <th>State</th>\n",
       "      <th>Country</th>\n",
       "      <th>...</th>\n",
       "      <th>Product ID</th>\n",
       "      <th>Category</th>\n",
       "      <th>Sub-Category</th>\n",
       "      <th>Product Name</th>\n",
       "      <th>Sales</th>\n",
       "      <th>Quantity</th>\n",
       "      <th>Discount</th>\n",
       "      <th>Profit</th>\n",
       "      <th>Shipping Cost</th>\n",
       "      <th>Order Priority</th>\n",
       "    </tr>\n",
       "  </thead>\n",
       "  <tbody>\n",
       "    <tr>\n",
       "      <th>5909</th>\n",
       "      <td>CA-2013-161816</td>\n",
       "      <td>2013-04-29</td>\n",
       "      <td>2013-05-02</td>\n",
       "      <td>First Class</td>\n",
       "      <td>NB-18655</td>\n",
       "      <td>Nona Balk</td>\n",
       "      <td>Corporate</td>\n",
       "      <td>Dallas</td>\n",
       "      <td>Texas</td>\n",
       "      <td>United States</td>\n",
       "      <td>...</td>\n",
       "      <td>TEC-PH-10003012</td>\n",
       "      <td>Technology</td>\n",
       "      <td>Phones</td>\n",
       "      <td>Nortel Meridian M3904 Professional Digital phone</td>\n",
       "      <td>2.338791</td>\n",
       "      <td>0.0</td>\n",
       "      <td>1.0</td>\n",
       "      <td>1.268977</td>\n",
       "      <td>3.971548</td>\n",
       "      <td>Medium</td>\n",
       "    </tr>\n",
       "    <tr>\n",
       "      <th>5911</th>\n",
       "      <td>MX-2014-167108</td>\n",
       "      <td>2014-08-06</td>\n",
       "      <td>2014-08-08</td>\n",
       "      <td>Second Class</td>\n",
       "      <td>JF-15190</td>\n",
       "      <td>Jamie Frazer</td>\n",
       "      <td>Consumer</td>\n",
       "      <td>Punta Arenas</td>\n",
       "      <td>Magallanes y Antártica Chilena</td>\n",
       "      <td>Chile</td>\n",
       "      <td>...</td>\n",
       "      <td>TEC-PH-10002871</td>\n",
       "      <td>Technology</td>\n",
       "      <td>Phones</td>\n",
       "      <td>Motorola Audio Dock, with Caller ID</td>\n",
       "      <td>3.949137</td>\n",
       "      <td>1.0</td>\n",
       "      <td>0.0</td>\n",
       "      <td>6.194538</td>\n",
       "      <td>3.969755</td>\n",
       "      <td>High</td>\n",
       "    </tr>\n",
       "    <tr>\n",
       "      <th>5913</th>\n",
       "      <td>IT-2014-2181834</td>\n",
       "      <td>2014-03-12</td>\n",
       "      <td>2014-03-14</td>\n",
       "      <td>First Class</td>\n",
       "      <td>MG-18145</td>\n",
       "      <td>Mike Gockenbach</td>\n",
       "      <td>Consumer</td>\n",
       "      <td>Galway</td>\n",
       "      <td>Galway</td>\n",
       "      <td>Ireland</td>\n",
       "      <td>...</td>\n",
       "      <td>FUR-CH-10000133</td>\n",
       "      <td>Furniture</td>\n",
       "      <td>Chairs</td>\n",
       "      <td>Harbour Creations Steel Folding Chair, Black</td>\n",
       "      <td>1.326732</td>\n",
       "      <td>1.0</td>\n",
       "      <td>2.5</td>\n",
       "      <td>-6.705836</td>\n",
       "      <td>3.969210</td>\n",
       "      <td>High</td>\n",
       "    </tr>\n",
       "    <tr>\n",
       "      <th>5914</th>\n",
       "      <td>ID-2013-79432</td>\n",
       "      <td>2013-12-11</td>\n",
       "      <td>2013-12-14</td>\n",
       "      <td>Second Class</td>\n",
       "      <td>JK-15325</td>\n",
       "      <td>Jason Klamczynski</td>\n",
       "      <td>Corporate</td>\n",
       "      <td>Adelaide</td>\n",
       "      <td>South Australia</td>\n",
       "      <td>Australia</td>\n",
       "      <td>...</td>\n",
       "      <td>FUR-FU-10001477</td>\n",
       "      <td>Furniture</td>\n",
       "      <td>Furnishings</td>\n",
       "      <td>Rubbermaid Stacking Tray, Black</td>\n",
       "      <td>0.709182</td>\n",
       "      <td>2.0</td>\n",
       "      <td>0.5</td>\n",
       "      <td>0.464081</td>\n",
       "      <td>3.965312</td>\n",
       "      <td>Critical</td>\n",
       "    </tr>\n",
       "    <tr>\n",
       "      <th>5915</th>\n",
       "      <td>CA-2014-120376</td>\n",
       "      <td>2014-12-23</td>\n",
       "      <td>2014-12-26</td>\n",
       "      <td>First Class</td>\n",
       "      <td>TP-21130</td>\n",
       "      <td>Theone Pippenger</td>\n",
       "      <td>Consumer</td>\n",
       "      <td>Detroit</td>\n",
       "      <td>Michigan</td>\n",
       "      <td>United States</td>\n",
       "      <td>...</td>\n",
       "      <td>FUR-TA-10004534</td>\n",
       "      <td>Furniture</td>\n",
       "      <td>Tables</td>\n",
       "      <td>Bevis 44 x 96 Conference Tables</td>\n",
       "      <td>2.665183</td>\n",
       "      <td>-0.5</td>\n",
       "      <td>0.0</td>\n",
       "      <td>2.380987</td>\n",
       "      <td>3.965312</td>\n",
       "      <td>High</td>\n",
       "    </tr>\n",
       "  </tbody>\n",
       "</table>\n",
       "<p>5 rows × 23 columns</p>\n",
       "</div>"
      ],
      "text/plain": [
       "             Order ID Order Date  Ship Date     Ship Mode Customer ID  \\\n",
       "5909   CA-2013-161816 2013-04-29 2013-05-02   First Class    NB-18655   \n",
       "5911   MX-2014-167108 2014-08-06 2014-08-08  Second Class    JF-15190   \n",
       "5913  IT-2014-2181834 2014-03-12 2014-03-14   First Class    MG-18145   \n",
       "5914    ID-2013-79432 2013-12-11 2013-12-14  Second Class    JK-15325   \n",
       "5915   CA-2014-120376 2014-12-23 2014-12-26   First Class    TP-21130   \n",
       "\n",
       "          Customer Name    Segment          City  \\\n",
       "5909          Nona Balk  Corporate        Dallas   \n",
       "5911       Jamie Frazer   Consumer  Punta Arenas   \n",
       "5913    Mike Gockenbach   Consumer        Galway   \n",
       "5914  Jason Klamczynski  Corporate      Adelaide   \n",
       "5915   Theone Pippenger   Consumer       Detroit   \n",
       "\n",
       "                               State        Country  ...       Product ID  \\\n",
       "5909                           Texas  United States  ...  TEC-PH-10003012   \n",
       "5911  Magallanes y Antártica Chilena          Chile  ...  TEC-PH-10002871   \n",
       "5913                          Galway        Ireland  ...  FUR-CH-10000133   \n",
       "5914                 South Australia      Australia  ...  FUR-FU-10001477   \n",
       "5915                        Michigan  United States  ...  FUR-TA-10004534   \n",
       "\n",
       "        Category Sub-Category  \\\n",
       "5909  Technology       Phones   \n",
       "5911  Technology       Phones   \n",
       "5913   Furniture       Chairs   \n",
       "5914   Furniture  Furnishings   \n",
       "5915   Furniture       Tables   \n",
       "\n",
       "                                          Product Name     Sales Quantity  \\\n",
       "5909  Nortel Meridian M3904 Professional Digital phone  2.338791      0.0   \n",
       "5911               Motorola Audio Dock, with Caller ID  3.949137      1.0   \n",
       "5913      Harbour Creations Steel Folding Chair, Black  1.326732      1.0   \n",
       "5914                   Rubbermaid Stacking Tray, Black  0.709182      2.0   \n",
       "5915                   Bevis 44 x 96 Conference Tables  2.665183     -0.5   \n",
       "\n",
       "     Discount    Profit  Shipping Cost  Order Priority  \n",
       "5909      1.0  1.268977       3.971548          Medium  \n",
       "5911      0.0  6.194538       3.969755            High  \n",
       "5913      2.5 -6.705836       3.969210            High  \n",
       "5914      0.5  0.464081       3.965312        Critical  \n",
       "5915      0.0  2.380987       3.965312            High  \n",
       "\n",
       "[5 rows x 23 columns]"
      ]
     },
     "execution_count": 36,
     "metadata": {},
     "output_type": "execute_result"
    }
   ],
   "source": [
    "from sklearn.preprocessing import RobustScaler\n",
    "\n",
    "scaler = RobustScaler()\n",
    "\n",
    "df1[cont_columns] = scaler.fit_transform(df1[cont_columns])\n",
    " \n",
    "df1.head()"
   ]
  },
  {
   "cell_type": "code",
   "execution_count": 240,
   "id": "6aa05e47-7632-4b89-bea4-68d6f8515371",
   "metadata": {},
   "outputs": [],
   "source": [
    "# from sklearn.preprocessing import MinMaxScaler\n",
    "\n",
    "# scaler=MinMaxScaler()\n",
    "\n",
    "# df1[cont_columns]=scaler.fit_transform(df1[cont_columns])\n",
    "# df1.head()"
   ]
  },
  {
   "cell_type": "code",
   "execution_count": 241,
   "id": "60811e16-2ae1-49e8-83c3-cec0148df181",
   "metadata": {},
   "outputs": [],
   "source": [
    "# from sklearn.preprocessing import StandardScaler\n",
    "\n",
    "# scaler=StandardScaler()\n",
    "\n",
    "# df1[cont_columns]=scaler.fit_transform(df1[cont_columns])\n",
    "# df1.head()"
   ]
  },
  {
   "cell_type": "markdown",
   "id": "e1067a73-de57-4543-b472-63b08460072b",
   "metadata": {},
   "source": [
    "## Feature Engineering"
   ]
  },
  {
   "cell_type": "markdown",
   "id": "2113fd7e-e180-4a03-9c6d-3a981ab7c6fa",
   "metadata": {},
   "source": [
    "#### Creating new columns day,month,day_of_week from the Order date column by converting into datetime format"
   ]
  },
  {
   "cell_type": "code",
   "execution_count": 39,
   "id": "afa29441-60d6-4413-8537-774fdc7f7ca0",
   "metadata": {},
   "outputs": [],
   "source": [
    "df1['Order Date'] = pd.to_datetime(df1['Order Date'])\n",
    "df1['Day'] = df1['Order Date'].dt.day\n",
    "df1['Month'] = df1['Order Date'].dt.month\n",
    "df1['Day_Of_Week']=df1['Order Date'].dt.strftime('%A')"
   ]
  },
  {
   "cell_type": "code",
   "execution_count": 40,
   "id": "d9d0c216-35d3-43de-babc-b7e549a1cbf5",
   "metadata": {},
   "outputs": [
    {
     "data": {
      "text/plain": [
       "array([ 4,  8,  3, 12,  5, 11, 10,  9,  7,  6,  1,  2])"
      ]
     },
     "execution_count": 40,
     "metadata": {},
     "output_type": "execute_result"
    }
   ],
   "source": [
    "df1['Month'].unique()"
   ]
  },
  {
   "cell_type": "markdown",
   "id": "b69b14e7-1ff7-4921-9574-d49f2ea5e7b9",
   "metadata": {},
   "source": [
    "### Correlation Table"
   ]
  },
  {
   "cell_type": "code",
   "execution_count": 45,
   "id": "36d5f545-e36a-407a-9731-58f76f5ad565",
   "metadata": {},
   "outputs": [
    {
     "data": {
      "text/html": [
       "<div>\n",
       "<style scoped>\n",
       "    .dataframe tbody tr th:only-of-type {\n",
       "        vertical-align: middle;\n",
       "    }\n",
       "\n",
       "    .dataframe tbody tr th {\n",
       "        vertical-align: top;\n",
       "    }\n",
       "\n",
       "    .dataframe thead th {\n",
       "        text-align: right;\n",
       "    }\n",
       "</style>\n",
       "<table border=\"1\" class=\"dataframe\">\n",
       "  <thead>\n",
       "    <tr style=\"text-align: right;\">\n",
       "      <th></th>\n",
       "      <th>Sales</th>\n",
       "      <th>Quantity</th>\n",
       "      <th>Discount</th>\n",
       "      <th>Profit</th>\n",
       "      <th>Shipping Cost</th>\n",
       "      <th>Day</th>\n",
       "      <th>Month</th>\n",
       "    </tr>\n",
       "  </thead>\n",
       "  <tbody>\n",
       "    <tr>\n",
       "      <th>Sales</th>\n",
       "      <td>1.000000</td>\n",
       "      <td>0.233879</td>\n",
       "      <td>-0.021849</td>\n",
       "      <td>0.347425</td>\n",
       "      <td>0.786176</td>\n",
       "      <td>-0.000955</td>\n",
       "      <td>-0.001931</td>\n",
       "    </tr>\n",
       "    <tr>\n",
       "      <th>Quantity</th>\n",
       "      <td>0.233879</td>\n",
       "      <td>1.000000</td>\n",
       "      <td>0.075469</td>\n",
       "      <td>0.075213</td>\n",
       "      <td>0.200955</td>\n",
       "      <td>0.002504</td>\n",
       "      <td>0.020531</td>\n",
       "    </tr>\n",
       "    <tr>\n",
       "      <th>Discount</th>\n",
       "      <td>-0.021849</td>\n",
       "      <td>0.075469</td>\n",
       "      <td>1.000000</td>\n",
       "      <td>-0.471169</td>\n",
       "      <td>-0.024752</td>\n",
       "      <td>-0.007616</td>\n",
       "      <td>0.015507</td>\n",
       "    </tr>\n",
       "    <tr>\n",
       "      <th>Profit</th>\n",
       "      <td>0.347425</td>\n",
       "      <td>0.075213</td>\n",
       "      <td>-0.471169</td>\n",
       "      <td>1.000000</td>\n",
       "      <td>0.279745</td>\n",
       "      <td>0.004255</td>\n",
       "      <td>0.000698</td>\n",
       "    </tr>\n",
       "    <tr>\n",
       "      <th>Shipping Cost</th>\n",
       "      <td>0.786176</td>\n",
       "      <td>0.200955</td>\n",
       "      <td>-0.024752</td>\n",
       "      <td>0.279745</td>\n",
       "      <td>1.000000</td>\n",
       "      <td>-0.000945</td>\n",
       "      <td>-0.003642</td>\n",
       "    </tr>\n",
       "    <tr>\n",
       "      <th>Day</th>\n",
       "      <td>-0.000955</td>\n",
       "      <td>0.002504</td>\n",
       "      <td>-0.007616</td>\n",
       "      <td>0.004255</td>\n",
       "      <td>-0.000945</td>\n",
       "      <td>1.000000</td>\n",
       "      <td>0.001030</td>\n",
       "    </tr>\n",
       "    <tr>\n",
       "      <th>Month</th>\n",
       "      <td>-0.001931</td>\n",
       "      <td>0.020531</td>\n",
       "      <td>0.015507</td>\n",
       "      <td>0.000698</td>\n",
       "      <td>-0.003642</td>\n",
       "      <td>0.001030</td>\n",
       "      <td>1.000000</td>\n",
       "    </tr>\n",
       "  </tbody>\n",
       "</table>\n",
       "</div>"
      ],
      "text/plain": [
       "                  Sales  Quantity  Discount    Profit  Shipping Cost  \\\n",
       "Sales          1.000000  0.233879 -0.021849  0.347425       0.786176   \n",
       "Quantity       0.233879  1.000000  0.075469  0.075213       0.200955   \n",
       "Discount      -0.021849  0.075469  1.000000 -0.471169      -0.024752   \n",
       "Profit         0.347425  0.075213 -0.471169  1.000000       0.279745   \n",
       "Shipping Cost  0.786176  0.200955 -0.024752  0.279745       1.000000   \n",
       "Day           -0.000955  0.002504 -0.007616  0.004255      -0.000945   \n",
       "Month         -0.001931  0.020531  0.015507  0.000698      -0.003642   \n",
       "\n",
       "                    Day     Month  \n",
       "Sales         -0.000955 -0.001931  \n",
       "Quantity       0.002504  0.020531  \n",
       "Discount      -0.007616  0.015507  \n",
       "Profit         0.004255  0.000698  \n",
       "Shipping Cost -0.000945 -0.003642  \n",
       "Day            1.000000  0.001030  \n",
       "Month          0.001030  1.000000  "
      ]
     },
     "execution_count": 45,
     "metadata": {},
     "output_type": "execute_result"
    }
   ],
   "source": [
    "corre=df1.corr(numeric_only=True)\n",
    "corre"
   ]
  },
  {
   "cell_type": "code",
   "execution_count": 245,
   "id": "6cbc2988-085b-47ba-aa85-28413839b4e3",
   "metadata": {},
   "outputs": [
    {
     "data": {
      "text/plain": [
       "Index(['Order ID', 'Order Date', 'Ship Date', 'Ship Mode', 'Customer ID',\n",
       "       'Customer Name', 'Segment', 'City', 'State', 'Country', 'Postal Code',\n",
       "       'Market', 'Region', 'Product ID', 'Category', 'Sub-Category',\n",
       "       'Product Name', 'Sales', 'Quantity', 'Discount', 'Profit',\n",
       "       'Shipping Cost', 'Order Priority', 'Day', 'Month', 'Day_Of_Week'],\n",
       "      dtype='object')"
      ]
     },
     "execution_count": 245,
     "metadata": {},
     "output_type": "execute_result"
    }
   ],
   "source": [
    "df1.columns"
   ]
  },
  {
   "cell_type": "markdown",
   "id": "5b9d7091-3171-4126-992e-669ec3370ff5",
   "metadata": {},
   "source": [
    "## Dropping unnecessary columns"
   ]
  },
  {
   "cell_type": "code",
   "execution_count": 46,
   "id": "379d83b8-e503-40f2-8323-ff09e287c12c",
   "metadata": {},
   "outputs": [],
   "source": [
    "df1.drop(['Order ID','Ship Date','Product ID','Customer ID','Postal Code'],axis=1,inplace=True)"
   ]
  },
  {
   "cell_type": "code",
   "execution_count": 47,
   "id": "ce3d8bb2-2ee4-4552-afaf-d349bbbaae38",
   "metadata": {},
   "outputs": [
    {
     "data": {
      "text/plain": [
       "Index(['Order Date', 'Ship Mode', 'Customer Name', 'Segment', 'City', 'State',\n",
       "       'Country', 'Market', 'Region', 'Category', 'Sub-Category',\n",
       "       'Product Name', 'Sales', 'Quantity', 'Discount', 'Profit',\n",
       "       'Shipping Cost', 'Order Priority', 'Day', 'Month', 'Day_Of_Week'],\n",
       "      dtype='object')"
      ]
     },
     "execution_count": 47,
     "metadata": {},
     "output_type": "execute_result"
    }
   ],
   "source": [
    "df1.columns"
   ]
  },
  {
   "cell_type": "markdown",
   "id": "2108042a-75a8-4bed-828b-f70a838eedc0",
   "metadata": {},
   "source": [
    "## Encoding"
   ]
  },
  {
   "cell_type": "code",
   "execution_count": 48,
   "id": "951b7108-85e9-419f-83db-c486affb27ad",
   "metadata": {},
   "outputs": [],
   "source": [
    "#To change all categorical columns into numerical values use label Encoding\n",
    "\n",
    "from sklearn.preprocessing import LabelEncoder\n",
    "\n",
    "label_e=LabelEncoder()\n",
    "#find the categorical columns\n",
    "categ_columns=df1.select_dtypes(include=['object']).columns\n",
    "categ_columns\n",
    "for col in categ_columns:\n",
    "    df1[col]=label_e.fit_transform(df1[col])\n",
    "\n"
   ]
  },
  {
   "cell_type": "code",
   "execution_count": 49,
   "id": "e3af2d16-6f1f-48f3-8af8-19eff9c22b41",
   "metadata": {},
   "outputs": [
    {
     "data": {
      "text/html": [
       "<div>\n",
       "<style scoped>\n",
       "    .dataframe tbody tr th:only-of-type {\n",
       "        vertical-align: middle;\n",
       "    }\n",
       "\n",
       "    .dataframe tbody tr th {\n",
       "        vertical-align: top;\n",
       "    }\n",
       "\n",
       "    .dataframe thead th {\n",
       "        text-align: right;\n",
       "    }\n",
       "</style>\n",
       "<table border=\"1\" class=\"dataframe\">\n",
       "  <thead>\n",
       "    <tr style=\"text-align: right;\">\n",
       "      <th></th>\n",
       "      <th>Order Date</th>\n",
       "      <th>Ship Mode</th>\n",
       "      <th>Customer Name</th>\n",
       "      <th>Segment</th>\n",
       "      <th>City</th>\n",
       "      <th>State</th>\n",
       "      <th>Country</th>\n",
       "      <th>Market</th>\n",
       "      <th>Region</th>\n",
       "      <th>Category</th>\n",
       "      <th>...</th>\n",
       "      <th>Product Name</th>\n",
       "      <th>Sales</th>\n",
       "      <th>Quantity</th>\n",
       "      <th>Discount</th>\n",
       "      <th>Profit</th>\n",
       "      <th>Shipping Cost</th>\n",
       "      <th>Order Priority</th>\n",
       "      <th>Day</th>\n",
       "      <th>Month</th>\n",
       "      <th>Day_Of_Week</th>\n",
       "    </tr>\n",
       "  </thead>\n",
       "  <tbody>\n",
       "    <tr>\n",
       "      <th>5909</th>\n",
       "      <td>2013-04-29</td>\n",
       "      <td>0</td>\n",
       "      <td>576</td>\n",
       "      <td>1</td>\n",
       "      <td>776</td>\n",
       "      <td>864</td>\n",
       "      <td>131</td>\n",
       "      <td>6</td>\n",
       "      <td>3</td>\n",
       "      <td>2</td>\n",
       "      <td>...</td>\n",
       "      <td>2344</td>\n",
       "      <td>2.338791</td>\n",
       "      <td>0.0</td>\n",
       "      <td>1.0</td>\n",
       "      <td>1.268977</td>\n",
       "      <td>3.971548</td>\n",
       "      <td>3</td>\n",
       "      <td>29</td>\n",
       "      <td>4</td>\n",
       "      <td>1</td>\n",
       "    </tr>\n",
       "    <tr>\n",
       "      <th>5911</th>\n",
       "      <td>2014-08-06</td>\n",
       "      <td>2</td>\n",
       "      <td>345</td>\n",
       "      <td>0</td>\n",
       "      <td>2386</td>\n",
       "      <td>508</td>\n",
       "      <td>25</td>\n",
       "      <td>5</td>\n",
       "      <td>10</td>\n",
       "      <td>2</td>\n",
       "      <td>...</td>\n",
       "      <td>2237</td>\n",
       "      <td>3.949137</td>\n",
       "      <td>1.0</td>\n",
       "      <td>0.0</td>\n",
       "      <td>6.194538</td>\n",
       "      <td>3.969755</td>\n",
       "      <td>1</td>\n",
       "      <td>6</td>\n",
       "      <td>8</td>\n",
       "      <td>6</td>\n",
       "    </tr>\n",
       "    <tr>\n",
       "      <th>5913</th>\n",
       "      <td>2014-03-12</td>\n",
       "      <td>0</td>\n",
       "      <td>542</td>\n",
       "      <td>0</td>\n",
       "      <td>1034</td>\n",
       "      <td>300</td>\n",
       "      <td>61</td>\n",
       "      <td>4</td>\n",
       "      <td>7</td>\n",
       "      <td>0</td>\n",
       "      <td>...</td>\n",
       "      <td>1644</td>\n",
       "      <td>1.326732</td>\n",
       "      <td>1.0</td>\n",
       "      <td>2.5</td>\n",
       "      <td>-6.705836</td>\n",
       "      <td>3.969210</td>\n",
       "      <td>1</td>\n",
       "      <td>12</td>\n",
       "      <td>3</td>\n",
       "      <td>6</td>\n",
       "    </tr>\n",
       "    <tr>\n",
       "      <th>5914</th>\n",
       "      <td>2013-12-11</td>\n",
       "      <td>2</td>\n",
       "      <td>354</td>\n",
       "      <td>1</td>\n",
       "      <td>18</td>\n",
       "      <td>808</td>\n",
       "      <td>6</td>\n",
       "      <td>0</td>\n",
       "      <td>9</td>\n",
       "      <td>0</td>\n",
       "      <td>...</td>\n",
       "      <td>2705</td>\n",
       "      <td>0.709182</td>\n",
       "      <td>2.0</td>\n",
       "      <td>0.5</td>\n",
       "      <td>0.464081</td>\n",
       "      <td>3.965312</td>\n",
       "      <td>0</td>\n",
       "      <td>11</td>\n",
       "      <td>12</td>\n",
       "      <td>6</td>\n",
       "    </tr>\n",
       "    <tr>\n",
       "      <th>5915</th>\n",
       "      <td>2014-12-23</td>\n",
       "      <td>0</td>\n",
       "      <td>741</td>\n",
       "      <td>0</td>\n",
       "      <td>817</td>\n",
       "      <td>556</td>\n",
       "      <td>131</td>\n",
       "      <td>6</td>\n",
       "      <td>3</td>\n",
       "      <td>0</td>\n",
       "      <td>...</td>\n",
       "      <td>574</td>\n",
       "      <td>2.665183</td>\n",
       "      <td>-0.5</td>\n",
       "      <td>0.0</td>\n",
       "      <td>2.380987</td>\n",
       "      <td>3.965312</td>\n",
       "      <td>1</td>\n",
       "      <td>23</td>\n",
       "      <td>12</td>\n",
       "      <td>5</td>\n",
       "    </tr>\n",
       "  </tbody>\n",
       "</table>\n",
       "<p>5 rows × 21 columns</p>\n",
       "</div>"
      ],
      "text/plain": [
       "     Order Date  Ship Mode  Customer Name  Segment  City  State  Country  \\\n",
       "5909 2013-04-29          0            576        1   776    864      131   \n",
       "5911 2014-08-06          2            345        0  2386    508       25   \n",
       "5913 2014-03-12          0            542        0  1034    300       61   \n",
       "5914 2013-12-11          2            354        1    18    808        6   \n",
       "5915 2014-12-23          0            741        0   817    556      131   \n",
       "\n",
       "      Market  Region  Category  ...  Product Name     Sales  Quantity  \\\n",
       "5909       6       3         2  ...          2344  2.338791       0.0   \n",
       "5911       5      10         2  ...          2237  3.949137       1.0   \n",
       "5913       4       7         0  ...          1644  1.326732       1.0   \n",
       "5914       0       9         0  ...          2705  0.709182       2.0   \n",
       "5915       6       3         0  ...           574  2.665183      -0.5   \n",
       "\n",
       "      Discount    Profit  Shipping Cost  Order Priority  Day  Month  \\\n",
       "5909       1.0  1.268977       3.971548               3   29      4   \n",
       "5911       0.0  6.194538       3.969755               1    6      8   \n",
       "5913       2.5 -6.705836       3.969210               1   12      3   \n",
       "5914       0.5  0.464081       3.965312               0   11     12   \n",
       "5915       0.0  2.380987       3.965312               1   23     12   \n",
       "\n",
       "      Day_Of_Week  \n",
       "5909            1  \n",
       "5911            6  \n",
       "5913            6  \n",
       "5914            6  \n",
       "5915            5  \n",
       "\n",
       "[5 rows x 21 columns]"
      ]
     },
     "execution_count": 49,
     "metadata": {},
     "output_type": "execute_result"
    }
   ],
   "source": [
    "df1.head()"
   ]
  },
  {
   "cell_type": "markdown",
   "id": "0b8edb66-e8bb-4a70-8664-280d9cf0a52a",
   "metadata": {},
   "source": [
    "##Dropping another column which is unnecessary"
   ]
  },
  {
   "cell_type": "code",
   "execution_count": 50,
   "id": "82374fd7-8c42-482b-b85e-c776cd083921",
   "metadata": {},
   "outputs": [],
   "source": [
    "df1.drop('Order Date',inplace=True,axis=1)\n",
    "#df1.drop('OrderDate',inplace=True,axis=1)\n"
   ]
  },
  {
   "cell_type": "code",
   "execution_count": 51,
   "id": "7817ccf3-226a-4d42-bf5d-d471b8cf8daa",
   "metadata": {},
   "outputs": [
    {
     "data": {
      "text/html": [
       "<div>\n",
       "<style scoped>\n",
       "    .dataframe tbody tr th:only-of-type {\n",
       "        vertical-align: middle;\n",
       "    }\n",
       "\n",
       "    .dataframe tbody tr th {\n",
       "        vertical-align: top;\n",
       "    }\n",
       "\n",
       "    .dataframe thead th {\n",
       "        text-align: right;\n",
       "    }\n",
       "</style>\n",
       "<table border=\"1\" class=\"dataframe\">\n",
       "  <thead>\n",
       "    <tr style=\"text-align: right;\">\n",
       "      <th></th>\n",
       "      <th>Ship Mode</th>\n",
       "      <th>Customer Name</th>\n",
       "      <th>Segment</th>\n",
       "      <th>City</th>\n",
       "      <th>State</th>\n",
       "      <th>Country</th>\n",
       "      <th>Market</th>\n",
       "      <th>Region</th>\n",
       "      <th>Category</th>\n",
       "      <th>Sub-Category</th>\n",
       "      <th>Product Name</th>\n",
       "      <th>Sales</th>\n",
       "      <th>Quantity</th>\n",
       "      <th>Discount</th>\n",
       "      <th>Profit</th>\n",
       "      <th>Shipping Cost</th>\n",
       "      <th>Order Priority</th>\n",
       "      <th>Day</th>\n",
       "      <th>Month</th>\n",
       "      <th>Day_Of_Week</th>\n",
       "    </tr>\n",
       "  </thead>\n",
       "  <tbody>\n",
       "    <tr>\n",
       "      <th>5909</th>\n",
       "      <td>0</td>\n",
       "      <td>576</td>\n",
       "      <td>1</td>\n",
       "      <td>776</td>\n",
       "      <td>864</td>\n",
       "      <td>131</td>\n",
       "      <td>6</td>\n",
       "      <td>3</td>\n",
       "      <td>2</td>\n",
       "      <td>13</td>\n",
       "      <td>2344</td>\n",
       "      <td>2.338791</td>\n",
       "      <td>0.0</td>\n",
       "      <td>1.0</td>\n",
       "      <td>1.268977</td>\n",
       "      <td>3.971548</td>\n",
       "      <td>3</td>\n",
       "      <td>29</td>\n",
       "      <td>4</td>\n",
       "      <td>1</td>\n",
       "    </tr>\n",
       "    <tr>\n",
       "      <th>5911</th>\n",
       "      <td>2</td>\n",
       "      <td>345</td>\n",
       "      <td>0</td>\n",
       "      <td>2386</td>\n",
       "      <td>508</td>\n",
       "      <td>25</td>\n",
       "      <td>5</td>\n",
       "      <td>10</td>\n",
       "      <td>2</td>\n",
       "      <td>13</td>\n",
       "      <td>2237</td>\n",
       "      <td>3.949137</td>\n",
       "      <td>1.0</td>\n",
       "      <td>0.0</td>\n",
       "      <td>6.194538</td>\n",
       "      <td>3.969755</td>\n",
       "      <td>1</td>\n",
       "      <td>6</td>\n",
       "      <td>8</td>\n",
       "      <td>6</td>\n",
       "    </tr>\n",
       "    <tr>\n",
       "      <th>5913</th>\n",
       "      <td>0</td>\n",
       "      <td>542</td>\n",
       "      <td>0</td>\n",
       "      <td>1034</td>\n",
       "      <td>300</td>\n",
       "      <td>61</td>\n",
       "      <td>4</td>\n",
       "      <td>7</td>\n",
       "      <td>0</td>\n",
       "      <td>5</td>\n",
       "      <td>1644</td>\n",
       "      <td>1.326732</td>\n",
       "      <td>1.0</td>\n",
       "      <td>2.5</td>\n",
       "      <td>-6.705836</td>\n",
       "      <td>3.969210</td>\n",
       "      <td>1</td>\n",
       "      <td>12</td>\n",
       "      <td>3</td>\n",
       "      <td>6</td>\n",
       "    </tr>\n",
       "    <tr>\n",
       "      <th>5914</th>\n",
       "      <td>2</td>\n",
       "      <td>354</td>\n",
       "      <td>1</td>\n",
       "      <td>18</td>\n",
       "      <td>808</td>\n",
       "      <td>6</td>\n",
       "      <td>0</td>\n",
       "      <td>9</td>\n",
       "      <td>0</td>\n",
       "      <td>9</td>\n",
       "      <td>2705</td>\n",
       "      <td>0.709182</td>\n",
       "      <td>2.0</td>\n",
       "      <td>0.5</td>\n",
       "      <td>0.464081</td>\n",
       "      <td>3.965312</td>\n",
       "      <td>0</td>\n",
       "      <td>11</td>\n",
       "      <td>12</td>\n",
       "      <td>6</td>\n",
       "    </tr>\n",
       "    <tr>\n",
       "      <th>5915</th>\n",
       "      <td>0</td>\n",
       "      <td>741</td>\n",
       "      <td>0</td>\n",
       "      <td>817</td>\n",
       "      <td>556</td>\n",
       "      <td>131</td>\n",
       "      <td>6</td>\n",
       "      <td>3</td>\n",
       "      <td>0</td>\n",
       "      <td>16</td>\n",
       "      <td>574</td>\n",
       "      <td>2.665183</td>\n",
       "      <td>-0.5</td>\n",
       "      <td>0.0</td>\n",
       "      <td>2.380987</td>\n",
       "      <td>3.965312</td>\n",
       "      <td>1</td>\n",
       "      <td>23</td>\n",
       "      <td>12</td>\n",
       "      <td>5</td>\n",
       "    </tr>\n",
       "  </tbody>\n",
       "</table>\n",
       "</div>"
      ],
      "text/plain": [
       "      Ship Mode  Customer Name  Segment  City  State  Country  Market  Region  \\\n",
       "5909          0            576        1   776    864      131       6       3   \n",
       "5911          2            345        0  2386    508       25       5      10   \n",
       "5913          0            542        0  1034    300       61       4       7   \n",
       "5914          2            354        1    18    808        6       0       9   \n",
       "5915          0            741        0   817    556      131       6       3   \n",
       "\n",
       "      Category  Sub-Category  Product Name     Sales  Quantity  Discount  \\\n",
       "5909         2            13          2344  2.338791       0.0       1.0   \n",
       "5911         2            13          2237  3.949137       1.0       0.0   \n",
       "5913         0             5          1644  1.326732       1.0       2.5   \n",
       "5914         0             9          2705  0.709182       2.0       0.5   \n",
       "5915         0            16           574  2.665183      -0.5       0.0   \n",
       "\n",
       "        Profit  Shipping Cost  Order Priority  Day  Month  Day_Of_Week  \n",
       "5909  1.268977       3.971548               3   29      4            1  \n",
       "5911  6.194538       3.969755               1    6      8            6  \n",
       "5913 -6.705836       3.969210               1   12      3            6  \n",
       "5914  0.464081       3.965312               0   11     12            6  \n",
       "5915  2.380987       3.965312               1   23     12            5  "
      ]
     },
     "execution_count": 51,
     "metadata": {},
     "output_type": "execute_result"
    }
   ],
   "source": [
    "df1.head()"
   ]
  },
  {
   "cell_type": "markdown",
   "id": "216ac12f-c8cd-4c81-a92a-869d33678850",
   "metadata": {},
   "source": [
    "##Separating the label and features"
   ]
  },
  {
   "cell_type": "code",
   "execution_count": 52,
   "id": "ee146abc-e5aa-4f18-a5fa-7ede31910ad9",
   "metadata": {},
   "outputs": [
    {
     "data": {
      "text/plain": [
       "((39492, 19), (39492,))"
      ]
     },
     "execution_count": 52,
     "metadata": {},
     "output_type": "execute_result"
    }
   ],
   "source": [
    "X=df1.drop('Profit',axis=1)\n",
    "y=df1['Profit']\n",
    "X.shape,y.shape"
   ]
  },
  {
   "cell_type": "markdown",
   "id": "16ccdbca-f9d1-4de1-8611-003ef1149a9b",
   "metadata": {},
   "source": [
    "##splitting the train data and test data"
   ]
  },
  {
   "cell_type": "code",
   "execution_count": 53,
   "id": "734a944a-2a45-48d3-bbd8-9e1e2be89eab",
   "metadata": {},
   "outputs": [],
   "source": [
    "from sklearn.model_selection import train_test_split\n",
    "X_train,X_test,y_train,y_test=train_test_split(X,y,test_size=0.3,random_state=40)"
   ]
  },
  {
   "cell_type": "markdown",
   "id": "f5146d7a-ebc4-40a1-a15b-9ad2422f3c06",
   "metadata": {},
   "source": [
    "### Linear Regression"
   ]
  },
  {
   "cell_type": "markdown",
   "id": "b1b23e66-1e6d-4c9a-abdd-bb4b0dead89e",
   "metadata": {},
   "source": [
    "#Training the algorithm with training data"
   ]
  },
  {
   "cell_type": "code",
   "execution_count": 55,
   "id": "06eec22e-246f-444c-9970-f34c1e2b31e7",
   "metadata": {},
   "outputs": [
    {
     "data": {
      "text/html": [
       "<style>#sk-container-id-1 {color: black;background-color: white;}#sk-container-id-1 pre{padding: 0;}#sk-container-id-1 div.sk-toggleable {background-color: white;}#sk-container-id-1 label.sk-toggleable__label {cursor: pointer;display: block;width: 100%;margin-bottom: 0;padding: 0.3em;box-sizing: border-box;text-align: center;}#sk-container-id-1 label.sk-toggleable__label-arrow:before {content: \"▸\";float: left;margin-right: 0.25em;color: #696969;}#sk-container-id-1 label.sk-toggleable__label-arrow:hover:before {color: black;}#sk-container-id-1 div.sk-estimator:hover label.sk-toggleable__label-arrow:before {color: black;}#sk-container-id-1 div.sk-toggleable__content {max-height: 0;max-width: 0;overflow: hidden;text-align: left;background-color: #f0f8ff;}#sk-container-id-1 div.sk-toggleable__content pre {margin: 0.2em;color: black;border-radius: 0.25em;background-color: #f0f8ff;}#sk-container-id-1 input.sk-toggleable__control:checked~div.sk-toggleable__content {max-height: 200px;max-width: 100%;overflow: auto;}#sk-container-id-1 input.sk-toggleable__control:checked~label.sk-toggleable__label-arrow:before {content: \"▾\";}#sk-container-id-1 div.sk-estimator input.sk-toggleable__control:checked~label.sk-toggleable__label {background-color: #d4ebff;}#sk-container-id-1 div.sk-label input.sk-toggleable__control:checked~label.sk-toggleable__label {background-color: #d4ebff;}#sk-container-id-1 input.sk-hidden--visually {border: 0;clip: rect(1px 1px 1px 1px);clip: rect(1px, 1px, 1px, 1px);height: 1px;margin: -1px;overflow: hidden;padding: 0;position: absolute;width: 1px;}#sk-container-id-1 div.sk-estimator {font-family: monospace;background-color: #f0f8ff;border: 1px dotted black;border-radius: 0.25em;box-sizing: border-box;margin-bottom: 0.5em;}#sk-container-id-1 div.sk-estimator:hover {background-color: #d4ebff;}#sk-container-id-1 div.sk-parallel-item::after {content: \"\";width: 100%;border-bottom: 1px solid gray;flex-grow: 1;}#sk-container-id-1 div.sk-label:hover label.sk-toggleable__label {background-color: #d4ebff;}#sk-container-id-1 div.sk-serial::before {content: \"\";position: absolute;border-left: 1px solid gray;box-sizing: border-box;top: 0;bottom: 0;left: 50%;z-index: 0;}#sk-container-id-1 div.sk-serial {display: flex;flex-direction: column;align-items: center;background-color: white;padding-right: 0.2em;padding-left: 0.2em;position: relative;}#sk-container-id-1 div.sk-item {position: relative;z-index: 1;}#sk-container-id-1 div.sk-parallel {display: flex;align-items: stretch;justify-content: center;background-color: white;position: relative;}#sk-container-id-1 div.sk-item::before, #sk-container-id-1 div.sk-parallel-item::before {content: \"\";position: absolute;border-left: 1px solid gray;box-sizing: border-box;top: 0;bottom: 0;left: 50%;z-index: -1;}#sk-container-id-1 div.sk-parallel-item {display: flex;flex-direction: column;z-index: 1;position: relative;background-color: white;}#sk-container-id-1 div.sk-parallel-item:first-child::after {align-self: flex-end;width: 50%;}#sk-container-id-1 div.sk-parallel-item:last-child::after {align-self: flex-start;width: 50%;}#sk-container-id-1 div.sk-parallel-item:only-child::after {width: 0;}#sk-container-id-1 div.sk-dashed-wrapped {border: 1px dashed gray;margin: 0 0.4em 0.5em 0.4em;box-sizing: border-box;padding-bottom: 0.4em;background-color: white;}#sk-container-id-1 div.sk-label label {font-family: monospace;font-weight: bold;display: inline-block;line-height: 1.2em;}#sk-container-id-1 div.sk-label-container {text-align: center;}#sk-container-id-1 div.sk-container {/* jupyter's `normalize.less` sets `[hidden] { display: none; }` but bootstrap.min.css set `[hidden] { display: none !important; }` so we also need the `!important` here to be able to override the default hidden behavior on the sphinx rendered scikit-learn.org. See: https://github.com/scikit-learn/scikit-learn/issues/21755 */display: inline-block !important;position: relative;}#sk-container-id-1 div.sk-text-repr-fallback {display: none;}</style><div id=\"sk-container-id-1\" class=\"sk-top-container\"><div class=\"sk-text-repr-fallback\"><pre>LinearRegression()</pre><b>In a Jupyter environment, please rerun this cell to show the HTML representation or trust the notebook. <br />On GitHub, the HTML representation is unable to render, please try loading this page with nbviewer.org.</b></div><div class=\"sk-container\" hidden><div class=\"sk-item\"><div class=\"sk-estimator sk-toggleable\"><input class=\"sk-toggleable__control sk-hidden--visually\" id=\"sk-estimator-id-1\" type=\"checkbox\" checked><label for=\"sk-estimator-id-1\" class=\"sk-toggleable__label sk-toggleable__label-arrow\">LinearRegression</label><div class=\"sk-toggleable__content\"><pre>LinearRegression()</pre></div></div></div></div></div>"
      ],
      "text/plain": [
       "LinearRegression()"
      ]
     },
     "execution_count": 55,
     "metadata": {},
     "output_type": "execute_result"
    }
   ],
   "source": [
    "from sklearn.linear_model import LinearRegression\n",
    "\n",
    "#Create an instance of linear Regression\n",
    "lin_reg=LinearRegression()\n",
    "lin_reg\n",
    "# fit the model to the training data\n",
    "lin_reg.fit(X_train,y_train)"
   ]
  },
  {
   "cell_type": "code",
   "execution_count": 56,
   "id": "0a97819b-248f-4a51-9f02-8285662e3194",
   "metadata": {},
   "outputs": [
    {
     "data": {
      "text/plain": [
       "0.34755800278254445"
      ]
     },
     "execution_count": 56,
     "metadata": {},
     "output_type": "execute_result"
    }
   ],
   "source": [
    "#predicting the target varible using the training dataset\n",
    "y_pred=lin_reg.predict(X_test)\n",
    "#Computing the coeffiecint of determination for testing dataset\n",
    "lin_reg.score(X_test,y_test)"
   ]
  },
  {
   "cell_type": "code",
   "execution_count": 59,
   "id": "7d8b29f4-f468-4a42-ae98-f62dc3afeb45",
   "metadata": {},
   "outputs": [
    {
     "data": {
      "text/plain": [
       "0.3350702771878574"
      ]
     },
     "execution_count": 59,
     "metadata": {},
     "output_type": "execute_result"
    }
   ],
   "source": [
    "#Computating the coefficient of determination for training dataset\n",
    "lin_reg.score(X_train,y_train)"
   ]
  },
  {
   "cell_type": "markdown",
   "id": "1368533d-cd65-4008-a8ff-aa19e04fda83",
   "metadata": {},
   "source": [
    "#### Hyperparameter Tuning using GridSearchCV\n",
    "Finding the best regularization parameter (alpha) for a Ridge regression model. "
   ]
  },
  {
   "cell_type": "code",
   "execution_count": 60,
   "id": "55675188-cb31-468b-a59a-aaebac661b05",
   "metadata": {},
   "outputs": [
    {
     "name": "stdout",
     "output_type": "stream",
     "text": [
      "Best parametes:  {'alpha': 20}\n",
      "Best R2 Score:  0.3334712480439579\n"
     ]
    }
   ],
   "source": [
    "from sklearn.linear_model import Ridge\n",
    "from sklearn.model_selection import GridSearchCV\n",
    "\n",
    "ridge=Ridge()\n",
    "parameters={'alpha':[0.01,0.1,0.5,1,5,10,20,50,100]}\n",
    "grid_search=GridSearchCV(estimator=ridge,\n",
    "                         param_grid=parameters,scoring='r2',cv=3)\n",
    "\n",
    "grid_search.fit(X_train,y_train)\n",
    "\n",
    "print('Best parametes: ',grid_search.best_params_)\n",
    "print('Best R2 Score: ',grid_search.best_score_)"
   ]
  },
  {
   "cell_type": "markdown",
   "id": "a44e01ef-b927-47d2-bfa5-e6c90280a5c8",
   "metadata": {},
   "source": [
    "Finding the best regularization parameter (alpha) for a Lasso regression model. "
   ]
  },
  {
   "cell_type": "code",
   "execution_count": 258,
   "id": "c8dde576-76c5-48fd-805b-ccb8be0dde02",
   "metadata": {},
   "outputs": [
    {
     "name": "stdout",
     "output_type": "stream",
     "text": [
      "Best parametes:  {'alpha': 0.01}\n",
      "Best R2 Score:  0.3335041291821838\n"
     ]
    }
   ],
   "source": [
    "from sklearn.linear_model import Lasso\n",
    "from sklearn.model_selection import GridSearchCV\n",
    "\n",
    "lasso=Lasso()\n",
    "parameters={'alpha':[0.01,0.1,0.5,1,5,10,20,50,100]} \n",
    "grid_search=GridSearchCV(estimator=lasso,\n",
    "                         param_grid=parameters,scoring='r2',cv=3)\n",
    "\n",
    "grid_search.fit(X_train,y_train)\n",
    "\n",
    "print('Best parametes: ',grid_search.best_params_)\n",
    "print('Best R2 Score: ',grid_search.best_score_)"
   ]
  },
  {
   "cell_type": "markdown",
   "id": "2d072417-939c-44d9-bd96-694cc76b15af",
   "metadata": {},
   "source": [
    "Doing model training with selected columns"
   ]
  },
  {
   "cell_type": "code",
   "execution_count": 62,
   "id": "e6feee41-4379-42ff-8984-a36a374df689",
   "metadata": {},
   "outputs": [
    {
     "data": {
      "text/html": [
       "<div>\n",
       "<style scoped>\n",
       "    .dataframe tbody tr th:only-of-type {\n",
       "        vertical-align: middle;\n",
       "    }\n",
       "\n",
       "    .dataframe tbody tr th {\n",
       "        vertical-align: top;\n",
       "    }\n",
       "\n",
       "    .dataframe thead th {\n",
       "        text-align: right;\n",
       "    }\n",
       "</style>\n",
       "<table border=\"1\" class=\"dataframe\">\n",
       "  <thead>\n",
       "    <tr style=\"text-align: right;\">\n",
       "      <th></th>\n",
       "      <th>Sales</th>\n",
       "      <th>Shipping Cost</th>\n",
       "      <th>Quantity</th>\n",
       "      <th>Discount</th>\n",
       "      <th>Day</th>\n",
       "      <th>Month</th>\n",
       "      <th>Profit</th>\n",
       "      <th>Order Priority</th>\n",
       "      <th>Ship Mode</th>\n",
       "    </tr>\n",
       "  </thead>\n",
       "  <tbody>\n",
       "    <tr>\n",
       "      <th>5909</th>\n",
       "      <td>2.338791</td>\n",
       "      <td>3.971548</td>\n",
       "      <td>0.0</td>\n",
       "      <td>1.0</td>\n",
       "      <td>29</td>\n",
       "      <td>4</td>\n",
       "      <td>1.268977</td>\n",
       "      <td>3</td>\n",
       "      <td>0</td>\n",
       "    </tr>\n",
       "    <tr>\n",
       "      <th>5911</th>\n",
       "      <td>3.949137</td>\n",
       "      <td>3.969755</td>\n",
       "      <td>1.0</td>\n",
       "      <td>0.0</td>\n",
       "      <td>6</td>\n",
       "      <td>8</td>\n",
       "      <td>6.194538</td>\n",
       "      <td>1</td>\n",
       "      <td>2</td>\n",
       "    </tr>\n",
       "    <tr>\n",
       "      <th>5913</th>\n",
       "      <td>1.326732</td>\n",
       "      <td>3.969210</td>\n",
       "      <td>1.0</td>\n",
       "      <td>2.5</td>\n",
       "      <td>12</td>\n",
       "      <td>3</td>\n",
       "      <td>-6.705836</td>\n",
       "      <td>1</td>\n",
       "      <td>0</td>\n",
       "    </tr>\n",
       "    <tr>\n",
       "      <th>5914</th>\n",
       "      <td>0.709182</td>\n",
       "      <td>3.965312</td>\n",
       "      <td>2.0</td>\n",
       "      <td>0.5</td>\n",
       "      <td>11</td>\n",
       "      <td>12</td>\n",
       "      <td>0.464081</td>\n",
       "      <td>0</td>\n",
       "      <td>2</td>\n",
       "    </tr>\n",
       "    <tr>\n",
       "      <th>5915</th>\n",
       "      <td>2.665183</td>\n",
       "      <td>3.965312</td>\n",
       "      <td>-0.5</td>\n",
       "      <td>0.0</td>\n",
       "      <td>23</td>\n",
       "      <td>12</td>\n",
       "      <td>2.380987</td>\n",
       "      <td>1</td>\n",
       "      <td>0</td>\n",
       "    </tr>\n",
       "  </tbody>\n",
       "</table>\n",
       "</div>"
      ],
      "text/plain": [
       "         Sales  Shipping Cost  Quantity  Discount  Day  Month    Profit  \\\n",
       "5909  2.338791       3.971548       0.0       1.0   29      4  1.268977   \n",
       "5911  3.949137       3.969755       1.0       0.0    6      8  6.194538   \n",
       "5913  1.326732       3.969210       1.0       2.5   12      3 -6.705836   \n",
       "5914  0.709182       3.965312       2.0       0.5   11     12  0.464081   \n",
       "5915  2.665183       3.965312      -0.5       0.0   23     12  2.380987   \n",
       "\n",
       "      Order Priority  Ship Mode  \n",
       "5909               3          0  \n",
       "5911               1          2  \n",
       "5913               1          0  \n",
       "5914               0          2  \n",
       "5915               1          0  "
      ]
     },
     "execution_count": 62,
     "metadata": {},
     "output_type": "execute_result"
    }
   ],
   "source": [
    "selected_columns=['Sales','Shipping Cost','Quantity','Discount','Day','Month','Profit','Order Priority','Ship Mode']\n",
    "ndf=pd.DataFrame()\n",
    "for i in selected_columns:\n",
    "    ndf[i]=df1[i]\n",
    "\n",
    "ndf.head()"
   ]
  },
  {
   "cell_type": "code",
   "execution_count": 64,
   "id": "20475c9a-6788-432b-acd9-506592672187",
   "metadata": {},
   "outputs": [
    {
     "data": {
      "text/plain": [
       "((39492, 8), (39492,))"
      ]
     },
     "execution_count": 64,
     "metadata": {},
     "output_type": "execute_result"
    }
   ],
   "source": [
    "#partitioning features and labels\n",
    "X1=ndf.drop(['Profit'],axis=1)\n",
    "y1=ndf['Profit']\n",
    "X1.shape,y1.shape"
   ]
  },
  {
   "cell_type": "code",
   "execution_count": 65,
   "id": "b2bac757-32e3-4d15-9d96-c7951e12b699",
   "metadata": {},
   "outputs": [],
   "source": [
    "#Splitting the training data and test dataset\n",
    "from sklearn.model_selection import train_test_split\n",
    "X1_train,X1_test,y1_train,y1_test=train_test_split(X1,y1,test_size=0.3,random_state=9)"
   ]
  },
  {
   "cell_type": "code",
   "execution_count": 66,
   "id": "ae88b767-e75b-4077-baa3-d53f7e8414ec",
   "metadata": {},
   "outputs": [
    {
     "data": {
      "text/html": [
       "<style>#sk-container-id-2 {color: black;background-color: white;}#sk-container-id-2 pre{padding: 0;}#sk-container-id-2 div.sk-toggleable {background-color: white;}#sk-container-id-2 label.sk-toggleable__label {cursor: pointer;display: block;width: 100%;margin-bottom: 0;padding: 0.3em;box-sizing: border-box;text-align: center;}#sk-container-id-2 label.sk-toggleable__label-arrow:before {content: \"▸\";float: left;margin-right: 0.25em;color: #696969;}#sk-container-id-2 label.sk-toggleable__label-arrow:hover:before {color: black;}#sk-container-id-2 div.sk-estimator:hover label.sk-toggleable__label-arrow:before {color: black;}#sk-container-id-2 div.sk-toggleable__content {max-height: 0;max-width: 0;overflow: hidden;text-align: left;background-color: #f0f8ff;}#sk-container-id-2 div.sk-toggleable__content pre {margin: 0.2em;color: black;border-radius: 0.25em;background-color: #f0f8ff;}#sk-container-id-2 input.sk-toggleable__control:checked~div.sk-toggleable__content {max-height: 200px;max-width: 100%;overflow: auto;}#sk-container-id-2 input.sk-toggleable__control:checked~label.sk-toggleable__label-arrow:before {content: \"▾\";}#sk-container-id-2 div.sk-estimator input.sk-toggleable__control:checked~label.sk-toggleable__label {background-color: #d4ebff;}#sk-container-id-2 div.sk-label input.sk-toggleable__control:checked~label.sk-toggleable__label {background-color: #d4ebff;}#sk-container-id-2 input.sk-hidden--visually {border: 0;clip: rect(1px 1px 1px 1px);clip: rect(1px, 1px, 1px, 1px);height: 1px;margin: -1px;overflow: hidden;padding: 0;position: absolute;width: 1px;}#sk-container-id-2 div.sk-estimator {font-family: monospace;background-color: #f0f8ff;border: 1px dotted black;border-radius: 0.25em;box-sizing: border-box;margin-bottom: 0.5em;}#sk-container-id-2 div.sk-estimator:hover {background-color: #d4ebff;}#sk-container-id-2 div.sk-parallel-item::after {content: \"\";width: 100%;border-bottom: 1px solid gray;flex-grow: 1;}#sk-container-id-2 div.sk-label:hover label.sk-toggleable__label {background-color: #d4ebff;}#sk-container-id-2 div.sk-serial::before {content: \"\";position: absolute;border-left: 1px solid gray;box-sizing: border-box;top: 0;bottom: 0;left: 50%;z-index: 0;}#sk-container-id-2 div.sk-serial {display: flex;flex-direction: column;align-items: center;background-color: white;padding-right: 0.2em;padding-left: 0.2em;position: relative;}#sk-container-id-2 div.sk-item {position: relative;z-index: 1;}#sk-container-id-2 div.sk-parallel {display: flex;align-items: stretch;justify-content: center;background-color: white;position: relative;}#sk-container-id-2 div.sk-item::before, #sk-container-id-2 div.sk-parallel-item::before {content: \"\";position: absolute;border-left: 1px solid gray;box-sizing: border-box;top: 0;bottom: 0;left: 50%;z-index: -1;}#sk-container-id-2 div.sk-parallel-item {display: flex;flex-direction: column;z-index: 1;position: relative;background-color: white;}#sk-container-id-2 div.sk-parallel-item:first-child::after {align-self: flex-end;width: 50%;}#sk-container-id-2 div.sk-parallel-item:last-child::after {align-self: flex-start;width: 50%;}#sk-container-id-2 div.sk-parallel-item:only-child::after {width: 0;}#sk-container-id-2 div.sk-dashed-wrapped {border: 1px dashed gray;margin: 0 0.4em 0.5em 0.4em;box-sizing: border-box;padding-bottom: 0.4em;background-color: white;}#sk-container-id-2 div.sk-label label {font-family: monospace;font-weight: bold;display: inline-block;line-height: 1.2em;}#sk-container-id-2 div.sk-label-container {text-align: center;}#sk-container-id-2 div.sk-container {/* jupyter's `normalize.less` sets `[hidden] { display: none; }` but bootstrap.min.css set `[hidden] { display: none !important; }` so we also need the `!important` here to be able to override the default hidden behavior on the sphinx rendered scikit-learn.org. See: https://github.com/scikit-learn/scikit-learn/issues/21755 */display: inline-block !important;position: relative;}#sk-container-id-2 div.sk-text-repr-fallback {display: none;}</style><div id=\"sk-container-id-2\" class=\"sk-top-container\"><div class=\"sk-text-repr-fallback\"><pre>LinearRegression()</pre><b>In a Jupyter environment, please rerun this cell to show the HTML representation or trust the notebook. <br />On GitHub, the HTML representation is unable to render, please try loading this page with nbviewer.org.</b></div><div class=\"sk-container\" hidden><div class=\"sk-item\"><div class=\"sk-estimator sk-toggleable\"><input class=\"sk-toggleable__control sk-hidden--visually\" id=\"sk-estimator-id-2\" type=\"checkbox\" checked><label for=\"sk-estimator-id-2\" class=\"sk-toggleable__label sk-toggleable__label-arrow\">LinearRegression</label><div class=\"sk-toggleable__content\"><pre>LinearRegression()</pre></div></div></div></div></div>"
      ],
      "text/plain": [
       "LinearRegression()"
      ]
     },
     "execution_count": 66,
     "metadata": {},
     "output_type": "execute_result"
    }
   ],
   "source": [
    "from sklearn.linear_model import LinearRegression\n",
    "\n",
    "#Create Instance of Linear Regression\n",
    "lin_reg=LinearRegression()\n",
    "lin_reg\n",
    "#Fitting the model with training dataset\n",
    "lin_reg.fit(X1_train,y1_train)\n"
   ]
  },
  {
   "cell_type": "code",
   "execution_count": 67,
   "id": "29b47a74-0550-42c9-a763-f4202eae5827",
   "metadata": {},
   "outputs": [
    {
     "data": {
      "text/plain": [
       "(11848,)"
      ]
     },
     "execution_count": 67,
     "metadata": {},
     "output_type": "execute_result"
    }
   ],
   "source": [
    "#Predicting the target variable with trained linear regression model\n",
    "y_pred1=lin_reg.predict(X1_test)\n",
    "y_pred1.shape"
   ]
  },
  {
   "cell_type": "code",
   "execution_count": 68,
   "id": "c357eb16-0f68-4df3-8810-74e270e5b1cd",
   "metadata": {},
   "outputs": [
    {
     "data": {
      "text/plain": [
       "0.3323471267372249"
      ]
     },
     "execution_count": 68,
     "metadata": {},
     "output_type": "execute_result"
    }
   ],
   "source": [
    "#Predicting the coeffiecient of determination for training dataset\n",
    "lin_reg.score(X1_train,y1_train)"
   ]
  },
  {
   "cell_type": "code",
   "execution_count": 69,
   "id": "4ba38b10-a72c-4efe-b064-42a98f472daf",
   "metadata": {},
   "outputs": [
    {
     "data": {
      "text/plain": [
       "0.3471490626220137"
      ]
     },
     "execution_count": 69,
     "metadata": {},
     "output_type": "execute_result"
    }
   ],
   "source": [
    "#Predicting the coeffiecient of determination for testing dataset\n",
    "lin_reg.score(X1_test,y1_test)"
   ]
  },
  {
   "cell_type": "markdown",
   "id": "6d8566b2-8b32-4b3b-978b-22382a754b1c",
   "metadata": {},
   "source": [
    "####From above we can say that there is non linear relationship between the features and target variable"
   ]
  },
  {
   "cell_type": "markdown",
   "id": "c80bb9e8-7fc5-45a0-9b05-cf6ace6e3480",
   "metadata": {},
   "source": [
    "### Support Vector Regressor(SVR)"
   ]
  },
  {
   "cell_type": "code",
   "execution_count": 70,
   "id": "2c806d61-bc55-4ad9-98dc-8e69fa8a2d55",
   "metadata": {},
   "outputs": [
    {
     "data": {
      "text/html": [
       "<style>#sk-container-id-3 {color: black;background-color: white;}#sk-container-id-3 pre{padding: 0;}#sk-container-id-3 div.sk-toggleable {background-color: white;}#sk-container-id-3 label.sk-toggleable__label {cursor: pointer;display: block;width: 100%;margin-bottom: 0;padding: 0.3em;box-sizing: border-box;text-align: center;}#sk-container-id-3 label.sk-toggleable__label-arrow:before {content: \"▸\";float: left;margin-right: 0.25em;color: #696969;}#sk-container-id-3 label.sk-toggleable__label-arrow:hover:before {color: black;}#sk-container-id-3 div.sk-estimator:hover label.sk-toggleable__label-arrow:before {color: black;}#sk-container-id-3 div.sk-toggleable__content {max-height: 0;max-width: 0;overflow: hidden;text-align: left;background-color: #f0f8ff;}#sk-container-id-3 div.sk-toggleable__content pre {margin: 0.2em;color: black;border-radius: 0.25em;background-color: #f0f8ff;}#sk-container-id-3 input.sk-toggleable__control:checked~div.sk-toggleable__content {max-height: 200px;max-width: 100%;overflow: auto;}#sk-container-id-3 input.sk-toggleable__control:checked~label.sk-toggleable__label-arrow:before {content: \"▾\";}#sk-container-id-3 div.sk-estimator input.sk-toggleable__control:checked~label.sk-toggleable__label {background-color: #d4ebff;}#sk-container-id-3 div.sk-label input.sk-toggleable__control:checked~label.sk-toggleable__label {background-color: #d4ebff;}#sk-container-id-3 input.sk-hidden--visually {border: 0;clip: rect(1px 1px 1px 1px);clip: rect(1px, 1px, 1px, 1px);height: 1px;margin: -1px;overflow: hidden;padding: 0;position: absolute;width: 1px;}#sk-container-id-3 div.sk-estimator {font-family: monospace;background-color: #f0f8ff;border: 1px dotted black;border-radius: 0.25em;box-sizing: border-box;margin-bottom: 0.5em;}#sk-container-id-3 div.sk-estimator:hover {background-color: #d4ebff;}#sk-container-id-3 div.sk-parallel-item::after {content: \"\";width: 100%;border-bottom: 1px solid gray;flex-grow: 1;}#sk-container-id-3 div.sk-label:hover label.sk-toggleable__label {background-color: #d4ebff;}#sk-container-id-3 div.sk-serial::before {content: \"\";position: absolute;border-left: 1px solid gray;box-sizing: border-box;top: 0;bottom: 0;left: 50%;z-index: 0;}#sk-container-id-3 div.sk-serial {display: flex;flex-direction: column;align-items: center;background-color: white;padding-right: 0.2em;padding-left: 0.2em;position: relative;}#sk-container-id-3 div.sk-item {position: relative;z-index: 1;}#sk-container-id-3 div.sk-parallel {display: flex;align-items: stretch;justify-content: center;background-color: white;position: relative;}#sk-container-id-3 div.sk-item::before, #sk-container-id-3 div.sk-parallel-item::before {content: \"\";position: absolute;border-left: 1px solid gray;box-sizing: border-box;top: 0;bottom: 0;left: 50%;z-index: -1;}#sk-container-id-3 div.sk-parallel-item {display: flex;flex-direction: column;z-index: 1;position: relative;background-color: white;}#sk-container-id-3 div.sk-parallel-item:first-child::after {align-self: flex-end;width: 50%;}#sk-container-id-3 div.sk-parallel-item:last-child::after {align-self: flex-start;width: 50%;}#sk-container-id-3 div.sk-parallel-item:only-child::after {width: 0;}#sk-container-id-3 div.sk-dashed-wrapped {border: 1px dashed gray;margin: 0 0.4em 0.5em 0.4em;box-sizing: border-box;padding-bottom: 0.4em;background-color: white;}#sk-container-id-3 div.sk-label label {font-family: monospace;font-weight: bold;display: inline-block;line-height: 1.2em;}#sk-container-id-3 div.sk-label-container {text-align: center;}#sk-container-id-3 div.sk-container {/* jupyter's `normalize.less` sets `[hidden] { display: none; }` but bootstrap.min.css set `[hidden] { display: none !important; }` so we also need the `!important` here to be able to override the default hidden behavior on the sphinx rendered scikit-learn.org. See: https://github.com/scikit-learn/scikit-learn/issues/21755 */display: inline-block !important;position: relative;}#sk-container-id-3 div.sk-text-repr-fallback {display: none;}</style><div id=\"sk-container-id-3\" class=\"sk-top-container\"><div class=\"sk-text-repr-fallback\"><pre>SVR()</pre><b>In a Jupyter environment, please rerun this cell to show the HTML representation or trust the notebook. <br />On GitHub, the HTML representation is unable to render, please try loading this page with nbviewer.org.</b></div><div class=\"sk-container\" hidden><div class=\"sk-item\"><div class=\"sk-estimator sk-toggleable\"><input class=\"sk-toggleable__control sk-hidden--visually\" id=\"sk-estimator-id-3\" type=\"checkbox\" checked><label for=\"sk-estimator-id-3\" class=\"sk-toggleable__label sk-toggleable__label-arrow\">SVR</label><div class=\"sk-toggleable__content\"><pre>SVR()</pre></div></div></div></div></div>"
      ],
      "text/plain": [
       "SVR()"
      ]
     },
     "execution_count": 70,
     "metadata": {},
     "output_type": "execute_result"
    }
   ],
   "source": [
    "from sklearn.svm import SVR\n",
    "\n",
    "# Initialize a Support Vector Regressor with default hyperparameters\n",
    "svr=SVR()\n",
    "svr\n"
   ]
  },
  {
   "cell_type": "code",
   "execution_count": 71,
   "id": "7ae0d5d6-2146-4e3c-ae83-290a50cf2a8a",
   "metadata": {},
   "outputs": [
    {
     "data": {
      "text/html": [
       "<style>#sk-container-id-4 {color: black;background-color: white;}#sk-container-id-4 pre{padding: 0;}#sk-container-id-4 div.sk-toggleable {background-color: white;}#sk-container-id-4 label.sk-toggleable__label {cursor: pointer;display: block;width: 100%;margin-bottom: 0;padding: 0.3em;box-sizing: border-box;text-align: center;}#sk-container-id-4 label.sk-toggleable__label-arrow:before {content: \"▸\";float: left;margin-right: 0.25em;color: #696969;}#sk-container-id-4 label.sk-toggleable__label-arrow:hover:before {color: black;}#sk-container-id-4 div.sk-estimator:hover label.sk-toggleable__label-arrow:before {color: black;}#sk-container-id-4 div.sk-toggleable__content {max-height: 0;max-width: 0;overflow: hidden;text-align: left;background-color: #f0f8ff;}#sk-container-id-4 div.sk-toggleable__content pre {margin: 0.2em;color: black;border-radius: 0.25em;background-color: #f0f8ff;}#sk-container-id-4 input.sk-toggleable__control:checked~div.sk-toggleable__content {max-height: 200px;max-width: 100%;overflow: auto;}#sk-container-id-4 input.sk-toggleable__control:checked~label.sk-toggleable__label-arrow:before {content: \"▾\";}#sk-container-id-4 div.sk-estimator input.sk-toggleable__control:checked~label.sk-toggleable__label {background-color: #d4ebff;}#sk-container-id-4 div.sk-label input.sk-toggleable__control:checked~label.sk-toggleable__label {background-color: #d4ebff;}#sk-container-id-4 input.sk-hidden--visually {border: 0;clip: rect(1px 1px 1px 1px);clip: rect(1px, 1px, 1px, 1px);height: 1px;margin: -1px;overflow: hidden;padding: 0;position: absolute;width: 1px;}#sk-container-id-4 div.sk-estimator {font-family: monospace;background-color: #f0f8ff;border: 1px dotted black;border-radius: 0.25em;box-sizing: border-box;margin-bottom: 0.5em;}#sk-container-id-4 div.sk-estimator:hover {background-color: #d4ebff;}#sk-container-id-4 div.sk-parallel-item::after {content: \"\";width: 100%;border-bottom: 1px solid gray;flex-grow: 1;}#sk-container-id-4 div.sk-label:hover label.sk-toggleable__label {background-color: #d4ebff;}#sk-container-id-4 div.sk-serial::before {content: \"\";position: absolute;border-left: 1px solid gray;box-sizing: border-box;top: 0;bottom: 0;left: 50%;z-index: 0;}#sk-container-id-4 div.sk-serial {display: flex;flex-direction: column;align-items: center;background-color: white;padding-right: 0.2em;padding-left: 0.2em;position: relative;}#sk-container-id-4 div.sk-item {position: relative;z-index: 1;}#sk-container-id-4 div.sk-parallel {display: flex;align-items: stretch;justify-content: center;background-color: white;position: relative;}#sk-container-id-4 div.sk-item::before, #sk-container-id-4 div.sk-parallel-item::before {content: \"\";position: absolute;border-left: 1px solid gray;box-sizing: border-box;top: 0;bottom: 0;left: 50%;z-index: -1;}#sk-container-id-4 div.sk-parallel-item {display: flex;flex-direction: column;z-index: 1;position: relative;background-color: white;}#sk-container-id-4 div.sk-parallel-item:first-child::after {align-self: flex-end;width: 50%;}#sk-container-id-4 div.sk-parallel-item:last-child::after {align-self: flex-start;width: 50%;}#sk-container-id-4 div.sk-parallel-item:only-child::after {width: 0;}#sk-container-id-4 div.sk-dashed-wrapped {border: 1px dashed gray;margin: 0 0.4em 0.5em 0.4em;box-sizing: border-box;padding-bottom: 0.4em;background-color: white;}#sk-container-id-4 div.sk-label label {font-family: monospace;font-weight: bold;display: inline-block;line-height: 1.2em;}#sk-container-id-4 div.sk-label-container {text-align: center;}#sk-container-id-4 div.sk-container {/* jupyter's `normalize.less` sets `[hidden] { display: none; }` but bootstrap.min.css set `[hidden] { display: none !important; }` so we also need the `!important` here to be able to override the default hidden behavior on the sphinx rendered scikit-learn.org. See: https://github.com/scikit-learn/scikit-learn/issues/21755 */display: inline-block !important;position: relative;}#sk-container-id-4 div.sk-text-repr-fallback {display: none;}</style><div id=\"sk-container-id-4\" class=\"sk-top-container\"><div class=\"sk-text-repr-fallback\"><pre>SVR()</pre><b>In a Jupyter environment, please rerun this cell to show the HTML representation or trust the notebook. <br />On GitHub, the HTML representation is unable to render, please try loading this page with nbviewer.org.</b></div><div class=\"sk-container\" hidden><div class=\"sk-item\"><div class=\"sk-estimator sk-toggleable\"><input class=\"sk-toggleable__control sk-hidden--visually\" id=\"sk-estimator-id-4\" type=\"checkbox\" checked><label for=\"sk-estimator-id-4\" class=\"sk-toggleable__label sk-toggleable__label-arrow\">SVR</label><div class=\"sk-toggleable__content\"><pre>SVR()</pre></div></div></div></div></div>"
      ],
      "text/plain": [
       "SVR()"
      ]
     },
     "execution_count": 71,
     "metadata": {},
     "output_type": "execute_result"
    }
   ],
   "source": [
    "# Fitting the model with training set\n",
    "svr.fit(X_train,y_train)"
   ]
  },
  {
   "cell_type": "code",
   "execution_count": 72,
   "id": "d58b1fd8-d716-41d0-b0b7-266984f1e553",
   "metadata": {},
   "outputs": [
    {
     "data": {
      "text/plain": [
       "-0.013035869433945413"
      ]
     },
     "execution_count": 72,
     "metadata": {},
     "output_type": "execute_result"
    }
   ],
   "source": [
    "#Computing the coefficient of determination for training dataset\n",
    "svr.score(X_train,y_train)"
   ]
  },
  {
   "cell_type": "code",
   "execution_count": 73,
   "id": "533082be-a4a2-4962-a5f6-d72941cac752",
   "metadata": {},
   "outputs": [
    {
     "data": {
      "text/plain": [
       "-0.012479983845480547"
      ]
     },
     "execution_count": 73,
     "metadata": {},
     "output_type": "execute_result"
    }
   ],
   "source": [
    "#Computing the coefficient of determination for testing dataset\n",
    "svr.score(X_test,y_test)"
   ]
  },
  {
   "cell_type": "markdown",
   "id": "8438f0af-db9c-443e-9c67-d910e19356ff",
   "metadata": {},
   "source": [
    "#SVR works best when the relationship between the features and the target variable is approximately linear or can be transformed into a linear problem using kernel functions.                             \n",
    "#SVR's computational complexity grows quadratically with the number of samples, making it less suitable for very large datasets.                                                                              \n",
    "#SVR assumes that all features are relevant for prediction. If there are irrelevant features or if the dimensionality of the feature space is too high, it can negatively impact the performance of the model."
   ]
  },
  {
   "cell_type": "markdown",
   "id": "beea64fb-904e-4b66-bc9d-c3cbb2d59f70",
   "metadata": {},
   "source": [
    "### Trees"
   ]
  },
  {
   "cell_type": "code",
   "execution_count": 78,
   "id": "02c7db5d-0afc-4a0c-9b4f-595e37fba2e9",
   "metadata": {},
   "outputs": [],
   "source": [
    "#creating a new columns day,month,day of week from order date by converting date time format\n",
    "df2=df.copy()\n",
    "df2['Order Date']=pd.to_datetime(df2['Order Date'])\n",
    "df2['Day']=df2['Order Date'].dt.day\n",
    "df2['month']=df2['Order Date'].dt.month\n",
    "df2['Day_of_week']=df2['Order Date'].dt.strftime('%A')"
   ]
  },
  {
   "cell_type": "code",
   "execution_count": 80,
   "id": "bbf3987f-deac-4884-a0ad-2593562b0d2b",
   "metadata": {},
   "outputs": [],
   "source": [
    "# Dropping the unnecessary columns\n",
    "df2.drop(['Row ID', 'Order ID', 'Order Date', 'Ship Date','Customer ID','Postal Code','Product ID',],axis=1,inplace=True)"
   ]
  },
  {
   "cell_type": "code",
   "execution_count": 81,
   "id": "1c8d328c-a454-42a4-a429-53a516f28aa4",
   "metadata": {},
   "outputs": [
    {
     "data": {
      "text/plain": [
       "Index(['Ship Mode', 'Customer Name', 'Segment', 'City', 'State', 'Country',\n",
       "       'Market', 'Region', 'Category', 'Sub-Category', 'Product Name',\n",
       "       'Order Priority', 'Day_of_week'],\n",
       "      dtype='object')"
      ]
     },
     "execution_count": 81,
     "metadata": {},
     "output_type": "execute_result"
    }
   ],
   "source": [
    "cat_col=df2.select_dtypes(include='object').columns\n",
    "cat_col"
   ]
  },
  {
   "cell_type": "markdown",
   "id": "710baf16-d14f-4a1d-9c4d-f6cb14a41af2",
   "metadata": {},
   "source": [
    "#Labelling categorical columns values into numerical values"
   ]
  },
  {
   "cell_type": "code",
   "execution_count": 84,
   "id": "8801780a-d22e-4748-a91e-c7ceb5549705",
   "metadata": {},
   "outputs": [],
   "source": [
    "from sklearn.preprocessing import LabelEncoder\n",
    "\n",
    "# Intiating the Label Encoding\n",
    "label_e=LabelEncoder()\n",
    "for col in cat_col:\n",
    "    df2[col]=label_e.fit_transform(df2[col])"
   ]
  },
  {
   "cell_type": "code",
   "execution_count": 86,
   "id": "528f43f3-8cc3-473d-8af1-92388ce59c0f",
   "metadata": {},
   "outputs": [
    {
     "data": {
      "text/html": [
       "<div>\n",
       "<style scoped>\n",
       "    .dataframe tbody tr th:only-of-type {\n",
       "        vertical-align: middle;\n",
       "    }\n",
       "\n",
       "    .dataframe tbody tr th {\n",
       "        vertical-align: top;\n",
       "    }\n",
       "\n",
       "    .dataframe thead th {\n",
       "        text-align: right;\n",
       "    }\n",
       "</style>\n",
       "<table border=\"1\" class=\"dataframe\">\n",
       "  <thead>\n",
       "    <tr style=\"text-align: right;\">\n",
       "      <th></th>\n",
       "      <th>Ship Mode</th>\n",
       "      <th>Customer Name</th>\n",
       "      <th>Segment</th>\n",
       "      <th>City</th>\n",
       "      <th>State</th>\n",
       "      <th>Country</th>\n",
       "      <th>Market</th>\n",
       "      <th>Region</th>\n",
       "      <th>Category</th>\n",
       "      <th>Sub-Category</th>\n",
       "      <th>Product Name</th>\n",
       "      <th>Sales</th>\n",
       "      <th>Quantity</th>\n",
       "      <th>Discount</th>\n",
       "      <th>Profit</th>\n",
       "      <th>Shipping Cost</th>\n",
       "      <th>Order Priority</th>\n",
       "      <th>Day</th>\n",
       "      <th>month</th>\n",
       "      <th>Day_of_week</th>\n",
       "    </tr>\n",
       "  </thead>\n",
       "  <tbody>\n",
       "    <tr>\n",
       "      <th>0</th>\n",
       "      <td>1</td>\n",
       "      <td>632</td>\n",
       "      <td>0</td>\n",
       "      <td>2290</td>\n",
       "      <td>703</td>\n",
       "      <td>139</td>\n",
       "      <td>6</td>\n",
       "      <td>6</td>\n",
       "      <td>2</td>\n",
       "      <td>0</td>\n",
       "      <td>2750</td>\n",
       "      <td>2309.650</td>\n",
       "      <td>7</td>\n",
       "      <td>0.0</td>\n",
       "      <td>762.1845</td>\n",
       "      <td>933.57</td>\n",
       "      <td>0</td>\n",
       "      <td>31</td>\n",
       "      <td>7</td>\n",
       "      <td>5</td>\n",
       "    </tr>\n",
       "    <tr>\n",
       "      <th>1</th>\n",
       "      <td>2</td>\n",
       "      <td>413</td>\n",
       "      <td>1</td>\n",
       "      <td>3518</td>\n",
       "      <td>702</td>\n",
       "      <td>6</td>\n",
       "      <td>0</td>\n",
       "      <td>9</td>\n",
       "      <td>0</td>\n",
       "      <td>5</td>\n",
       "      <td>2525</td>\n",
       "      <td>3709.395</td>\n",
       "      <td>9</td>\n",
       "      <td>0.1</td>\n",
       "      <td>-288.7650</td>\n",
       "      <td>923.63</td>\n",
       "      <td>0</td>\n",
       "      <td>5</td>\n",
       "      <td>2</td>\n",
       "      <td>5</td>\n",
       "    </tr>\n",
       "    <tr>\n",
       "      <th>2</th>\n",
       "      <td>0</td>\n",
       "      <td>181</td>\n",
       "      <td>0</td>\n",
       "      <td>497</td>\n",
       "      <td>820</td>\n",
       "      <td>6</td>\n",
       "      <td>0</td>\n",
       "      <td>9</td>\n",
       "      <td>2</td>\n",
       "      <td>13</td>\n",
       "      <td>2502</td>\n",
       "      <td>5175.171</td>\n",
       "      <td>9</td>\n",
       "      <td>0.1</td>\n",
       "      <td>919.9710</td>\n",
       "      <td>915.49</td>\n",
       "      <td>3</td>\n",
       "      <td>17</td>\n",
       "      <td>10</td>\n",
       "      <td>4</td>\n",
       "    </tr>\n",
       "    <tr>\n",
       "      <th>3</th>\n",
       "      <td>0</td>\n",
       "      <td>424</td>\n",
       "      <td>2</td>\n",
       "      <td>375</td>\n",
       "      <td>145</td>\n",
       "      <td>47</td>\n",
       "      <td>4</td>\n",
       "      <td>3</td>\n",
       "      <td>2</td>\n",
       "      <td>13</td>\n",
       "      <td>2414</td>\n",
       "      <td>2892.510</td>\n",
       "      <td>5</td>\n",
       "      <td>0.1</td>\n",
       "      <td>-96.5400</td>\n",
       "      <td>910.16</td>\n",
       "      <td>3</td>\n",
       "      <td>28</td>\n",
       "      <td>1</td>\n",
       "      <td>1</td>\n",
       "    </tr>\n",
       "    <tr>\n",
       "      <th>4</th>\n",
       "      <td>1</td>\n",
       "      <td>632</td>\n",
       "      <td>0</td>\n",
       "      <td>857</td>\n",
       "      <td>270</td>\n",
       "      <td>110</td>\n",
       "      <td>1</td>\n",
       "      <td>0</td>\n",
       "      <td>2</td>\n",
       "      <td>6</td>\n",
       "      <td>3158</td>\n",
       "      <td>2832.960</td>\n",
       "      <td>8</td>\n",
       "      <td>0.0</td>\n",
       "      <td>311.5200</td>\n",
       "      <td>903.04</td>\n",
       "      <td>0</td>\n",
       "      <td>5</td>\n",
       "      <td>11</td>\n",
       "      <td>5</td>\n",
       "    </tr>\n",
       "  </tbody>\n",
       "</table>\n",
       "</div>"
      ],
      "text/plain": [
       "   Ship Mode  Customer Name  Segment  City  State  Country  Market  Region  \\\n",
       "0          1            632        0  2290    703      139       6       6   \n",
       "1          2            413        1  3518    702        6       0       9   \n",
       "2          0            181        0   497    820        6       0       9   \n",
       "3          0            424        2   375    145       47       4       3   \n",
       "4          1            632        0   857    270      110       1       0   \n",
       "\n",
       "   Category  Sub-Category  Product Name     Sales  Quantity  Discount  \\\n",
       "0         2             0          2750  2309.650         7       0.0   \n",
       "1         0             5          2525  3709.395         9       0.1   \n",
       "2         2            13          2502  5175.171         9       0.1   \n",
       "3         2            13          2414  2892.510         5       0.1   \n",
       "4         2             6          3158  2832.960         8       0.0   \n",
       "\n",
       "     Profit  Shipping Cost  Order Priority  Day  month  Day_of_week  \n",
       "0  762.1845         933.57               0   31      7            5  \n",
       "1 -288.7650         923.63               0    5      2            5  \n",
       "2  919.9710         915.49               3   17     10            4  \n",
       "3  -96.5400         910.16               3   28      1            1  \n",
       "4  311.5200         903.04               0    5     11            5  "
      ]
     },
     "execution_count": 86,
     "metadata": {},
     "output_type": "execute_result"
    }
   ],
   "source": [
    "df2.head()"
   ]
  },
  {
   "cell_type": "code",
   "execution_count": 89,
   "id": "b938bfd1-ee40-4348-b699-74be411bae9e",
   "metadata": {},
   "outputs": [
    {
     "data": {
      "text/plain": [
       "(51290,)"
      ]
     },
     "execution_count": 89,
     "metadata": {},
     "output_type": "execute_result"
    }
   ],
   "source": [
    "#Separating the features and labels\n",
    "\n",
    "X2=df2.drop('Profit',axis=1)\n",
    "y2=df2['Profit']\n",
    "y2.shape"
   ]
  },
  {
   "cell_type": "code",
   "execution_count": 90,
   "id": "3135cb6a-785b-4f0f-b850-d6bc3b736cbf",
   "metadata": {},
   "outputs": [
    {
     "data": {
      "text/plain": [
       "((35903, 19), (15387, 19))"
      ]
     },
     "execution_count": 90,
     "metadata": {},
     "output_type": "execute_result"
    }
   ],
   "source": [
    "from sklearn.model_selection import train_test_split\n",
    "\n",
    "#Partitioning the training dataset and testing dataset\n",
    "X_train2,X_test2,y_train2,y_test2=train_test_split(X2,y2,test_size=0.3,random_state=0)\n",
    "X_train2.shape,X_test2.shape"
   ]
  },
  {
   "cell_type": "markdown",
   "id": "e8627601-968e-40d5-b2bb-47894c345d0a",
   "metadata": {},
   "source": [
    "### DecisionTreeRegressor"
   ]
  },
  {
   "cell_type": "code",
   "execution_count": 93,
   "id": "12f0161b-de5e-443c-bcad-a7469a6444ce",
   "metadata": {},
   "outputs": [
    {
     "data": {
      "text/plain": [
       "(35903,)"
      ]
     },
     "execution_count": 93,
     "metadata": {},
     "output_type": "execute_result"
    }
   ],
   "source": [
    "from sklearn.tree import DecisionTreeRegressor\n",
    "\n",
    "# Create a Decision Tree Regressor object with specified hyperparameters\n",
    "Dtr=DecisionTreeRegressor(max_depth=5,max_features=10)\n",
    "\n",
    "#Fitting the model with trainig dataset\n",
    "Dtr.fit(X_train2,y_train2)\n",
    "y_train2.shape"
   ]
  },
  {
   "cell_type": "code",
   "execution_count": 95,
   "id": "46489b4d-2895-4a3c-899a-2d5afe0148a2",
   "metadata": {},
   "outputs": [
    {
     "data": {
      "text/plain": [
       "0.4781180714419957"
      ]
     },
     "execution_count": 95,
     "metadata": {},
     "output_type": "execute_result"
    }
   ],
   "source": [
    "#Predicting the target variabel using the trained model\n",
    "y_pred=Dtr.predict(X_test2)\n",
    "#Computing the coefficient of determination for testing dataset\n",
    "Dtr.score(X_test2,y_test2)"
   ]
  },
  {
   "cell_type": "code",
   "execution_count": 96,
   "id": "f4e95dbb-2c0b-4f83-8591-350cc420d453",
   "metadata": {},
   "outputs": [
    {
     "data": {
      "text/plain": [
       "0.6115564982777073"
      ]
     },
     "execution_count": 96,
     "metadata": {},
     "output_type": "execute_result"
    }
   ],
   "source": [
    "#Computing the coefficient of determination for training dataset\n",
    "Dtr.score(X_train2,y_train2)\n"
   ]
  },
  {
   "cell_type": "markdown",
   "id": "b0e2de9c-a3f8-4869-88ec-2cac290e3970",
   "metadata": {},
   "source": [
    "### Hyperparameters hypertuning with GridSearchCV"
   ]
  },
  {
   "cell_type": "code",
   "execution_count": 97,
   "id": "aad2d2c6-015c-4401-a721-c9a5e600f7c5",
   "metadata": {},
   "outputs": [
    {
     "name": "stdout",
     "output_type": "stream",
     "text": [
      "Best parametes:  {'max_depth': 7, 'max_features': 18}\n",
      "Best R2 Score:  0.6484291342909241\n"
     ]
    }
   ],
   "source": [
    "from sklearn.model_selection import GridSearchCV\n",
    "\n",
    "parameters={'max_depth':[4,5,6,7,8],\n",
    "            'max_features':[10,11,12,13,14,15,16,17,18,19,20]}\n",
    "grid_search=GridSearchCV(estimator=DecisionTreeRegressor(),\n",
    "                         param_grid=parameters,\n",
    "                         scoring='r2')\n",
    "\n",
    "grid_search.fit(X_train2,y_train2)\n",
    "print('Best parametes: ',grid_search.best_params_)\n",
    "print('Best R2 Score: ',grid_search.best_score_)"
   ]
  },
  {
   "cell_type": "markdown",
   "id": "9fd61651-567c-41fb-8d09-b9a949ef7984",
   "metadata": {},
   "source": [
    "### AdaBoostRegressor"
   ]
  },
  {
   "cell_type": "code",
   "execution_count": 107,
   "id": "bcffbcee-d1af-4f71-acae-359652b5b9fc",
   "metadata": {},
   "outputs": [
    {
     "data": {
      "text/html": [
       "<style>#sk-container-id-11 {color: black;background-color: white;}#sk-container-id-11 pre{padding: 0;}#sk-container-id-11 div.sk-toggleable {background-color: white;}#sk-container-id-11 label.sk-toggleable__label {cursor: pointer;display: block;width: 100%;margin-bottom: 0;padding: 0.3em;box-sizing: border-box;text-align: center;}#sk-container-id-11 label.sk-toggleable__label-arrow:before {content: \"▸\";float: left;margin-right: 0.25em;color: #696969;}#sk-container-id-11 label.sk-toggleable__label-arrow:hover:before {color: black;}#sk-container-id-11 div.sk-estimator:hover label.sk-toggleable__label-arrow:before {color: black;}#sk-container-id-11 div.sk-toggleable__content {max-height: 0;max-width: 0;overflow: hidden;text-align: left;background-color: #f0f8ff;}#sk-container-id-11 div.sk-toggleable__content pre {margin: 0.2em;color: black;border-radius: 0.25em;background-color: #f0f8ff;}#sk-container-id-11 input.sk-toggleable__control:checked~div.sk-toggleable__content {max-height: 200px;max-width: 100%;overflow: auto;}#sk-container-id-11 input.sk-toggleable__control:checked~label.sk-toggleable__label-arrow:before {content: \"▾\";}#sk-container-id-11 div.sk-estimator input.sk-toggleable__control:checked~label.sk-toggleable__label {background-color: #d4ebff;}#sk-container-id-11 div.sk-label input.sk-toggleable__control:checked~label.sk-toggleable__label {background-color: #d4ebff;}#sk-container-id-11 input.sk-hidden--visually {border: 0;clip: rect(1px 1px 1px 1px);clip: rect(1px, 1px, 1px, 1px);height: 1px;margin: -1px;overflow: hidden;padding: 0;position: absolute;width: 1px;}#sk-container-id-11 div.sk-estimator {font-family: monospace;background-color: #f0f8ff;border: 1px dotted black;border-radius: 0.25em;box-sizing: border-box;margin-bottom: 0.5em;}#sk-container-id-11 div.sk-estimator:hover {background-color: #d4ebff;}#sk-container-id-11 div.sk-parallel-item::after {content: \"\";width: 100%;border-bottom: 1px solid gray;flex-grow: 1;}#sk-container-id-11 div.sk-label:hover label.sk-toggleable__label {background-color: #d4ebff;}#sk-container-id-11 div.sk-serial::before {content: \"\";position: absolute;border-left: 1px solid gray;box-sizing: border-box;top: 0;bottom: 0;left: 50%;z-index: 0;}#sk-container-id-11 div.sk-serial {display: flex;flex-direction: column;align-items: center;background-color: white;padding-right: 0.2em;padding-left: 0.2em;position: relative;}#sk-container-id-11 div.sk-item {position: relative;z-index: 1;}#sk-container-id-11 div.sk-parallel {display: flex;align-items: stretch;justify-content: center;background-color: white;position: relative;}#sk-container-id-11 div.sk-item::before, #sk-container-id-11 div.sk-parallel-item::before {content: \"\";position: absolute;border-left: 1px solid gray;box-sizing: border-box;top: 0;bottom: 0;left: 50%;z-index: -1;}#sk-container-id-11 div.sk-parallel-item {display: flex;flex-direction: column;z-index: 1;position: relative;background-color: white;}#sk-container-id-11 div.sk-parallel-item:first-child::after {align-self: flex-end;width: 50%;}#sk-container-id-11 div.sk-parallel-item:last-child::after {align-self: flex-start;width: 50%;}#sk-container-id-11 div.sk-parallel-item:only-child::after {width: 0;}#sk-container-id-11 div.sk-dashed-wrapped {border: 1px dashed gray;margin: 0 0.4em 0.5em 0.4em;box-sizing: border-box;padding-bottom: 0.4em;background-color: white;}#sk-container-id-11 div.sk-label label {font-family: monospace;font-weight: bold;display: inline-block;line-height: 1.2em;}#sk-container-id-11 div.sk-label-container {text-align: center;}#sk-container-id-11 div.sk-container {/* jupyter's `normalize.less` sets `[hidden] { display: none; }` but bootstrap.min.css set `[hidden] { display: none !important; }` so we also need the `!important` here to be able to override the default hidden behavior on the sphinx rendered scikit-learn.org. See: https://github.com/scikit-learn/scikit-learn/issues/21755 */display: inline-block !important;position: relative;}#sk-container-id-11 div.sk-text-repr-fallback {display: none;}</style><div id=\"sk-container-id-11\" class=\"sk-top-container\"><div class=\"sk-text-repr-fallback\"><pre>AdaBoostRegressor(base_estimator=DecisionTreeRegressor(max_depth=1),\n",
       "                  learning_rate=0.1, random_state=42)</pre><b>In a Jupyter environment, please rerun this cell to show the HTML representation or trust the notebook. <br />On GitHub, the HTML representation is unable to render, please try loading this page with nbviewer.org.</b></div><div class=\"sk-container\" hidden><div class=\"sk-item sk-dashed-wrapped\"><div class=\"sk-label-container\"><div class=\"sk-label sk-toggleable\"><input class=\"sk-toggleable__control sk-hidden--visually\" id=\"sk-estimator-id-23\" type=\"checkbox\" ><label for=\"sk-estimator-id-23\" class=\"sk-toggleable__label sk-toggleable__label-arrow\">AdaBoostRegressor</label><div class=\"sk-toggleable__content\"><pre>AdaBoostRegressor(base_estimator=DecisionTreeRegressor(max_depth=1),\n",
       "                  learning_rate=0.1, random_state=42)</pre></div></div></div><div class=\"sk-parallel\"><div class=\"sk-parallel-item\"><div class=\"sk-item\"><div class=\"sk-label-container\"><div class=\"sk-label sk-toggleable\"><input class=\"sk-toggleable__control sk-hidden--visually\" id=\"sk-estimator-id-24\" type=\"checkbox\" ><label for=\"sk-estimator-id-24\" class=\"sk-toggleable__label sk-toggleable__label-arrow\">base_estimator: DecisionTreeRegressor</label><div class=\"sk-toggleable__content\"><pre>DecisionTreeRegressor(max_depth=1)</pre></div></div></div><div class=\"sk-serial\"><div class=\"sk-item\"><div class=\"sk-estimator sk-toggleable\"><input class=\"sk-toggleable__control sk-hidden--visually\" id=\"sk-estimator-id-25\" type=\"checkbox\" ><label for=\"sk-estimator-id-25\" class=\"sk-toggleable__label sk-toggleable__label-arrow\">DecisionTreeRegressor</label><div class=\"sk-toggleable__content\"><pre>DecisionTreeRegressor(max_depth=1)</pre></div></div></div></div></div></div></div></div></div></div>"
      ],
      "text/plain": [
       "AdaBoostRegressor(base_estimator=DecisionTreeRegressor(max_depth=1),\n",
       "                  learning_rate=0.1, random_state=42)"
      ]
     },
     "execution_count": 107,
     "metadata": {},
     "output_type": "execute_result"
    }
   ],
   "source": [
    "from sklearn.tree import DecisionTreeRegressor\n",
    "from sklearn.ensemble import AdaBoostRegressor\n",
    "\n",
    "# Initialize AdaBoostRegressor with Decision Tree as base estimator and 50 weak learners\n",
    "\n",
    "DT=DecisionTreeRegressor(max_depth=1)\n",
    "AB=AdaBoostRegressor(base_estimator=DT,n_estimators=50,learning_rate=0.1,random_state=42)\n",
    "AB"
   ]
  },
  {
   "cell_type": "code",
   "execution_count": 108,
   "id": "d85016df-10b5-45cd-b196-0bcce9fb6b06",
   "metadata": {},
   "outputs": [
    {
     "name": "stderr",
     "output_type": "stream",
     "text": [
      "C:\\ProgramData\\anaconda3\\Lib\\site-packages\\sklearn\\ensemble\\_base.py:166: FutureWarning: `base_estimator` was renamed to `estimator` in version 1.2 and will be removed in 1.4.\n",
      "  warnings.warn(\n"
     ]
    },
    {
     "data": {
      "text/html": [
       "<style>#sk-container-id-12 {color: black;background-color: white;}#sk-container-id-12 pre{padding: 0;}#sk-container-id-12 div.sk-toggleable {background-color: white;}#sk-container-id-12 label.sk-toggleable__label {cursor: pointer;display: block;width: 100%;margin-bottom: 0;padding: 0.3em;box-sizing: border-box;text-align: center;}#sk-container-id-12 label.sk-toggleable__label-arrow:before {content: \"▸\";float: left;margin-right: 0.25em;color: #696969;}#sk-container-id-12 label.sk-toggleable__label-arrow:hover:before {color: black;}#sk-container-id-12 div.sk-estimator:hover label.sk-toggleable__label-arrow:before {color: black;}#sk-container-id-12 div.sk-toggleable__content {max-height: 0;max-width: 0;overflow: hidden;text-align: left;background-color: #f0f8ff;}#sk-container-id-12 div.sk-toggleable__content pre {margin: 0.2em;color: black;border-radius: 0.25em;background-color: #f0f8ff;}#sk-container-id-12 input.sk-toggleable__control:checked~div.sk-toggleable__content {max-height: 200px;max-width: 100%;overflow: auto;}#sk-container-id-12 input.sk-toggleable__control:checked~label.sk-toggleable__label-arrow:before {content: \"▾\";}#sk-container-id-12 div.sk-estimator input.sk-toggleable__control:checked~label.sk-toggleable__label {background-color: #d4ebff;}#sk-container-id-12 div.sk-label input.sk-toggleable__control:checked~label.sk-toggleable__label {background-color: #d4ebff;}#sk-container-id-12 input.sk-hidden--visually {border: 0;clip: rect(1px 1px 1px 1px);clip: rect(1px, 1px, 1px, 1px);height: 1px;margin: -1px;overflow: hidden;padding: 0;position: absolute;width: 1px;}#sk-container-id-12 div.sk-estimator {font-family: monospace;background-color: #f0f8ff;border: 1px dotted black;border-radius: 0.25em;box-sizing: border-box;margin-bottom: 0.5em;}#sk-container-id-12 div.sk-estimator:hover {background-color: #d4ebff;}#sk-container-id-12 div.sk-parallel-item::after {content: \"\";width: 100%;border-bottom: 1px solid gray;flex-grow: 1;}#sk-container-id-12 div.sk-label:hover label.sk-toggleable__label {background-color: #d4ebff;}#sk-container-id-12 div.sk-serial::before {content: \"\";position: absolute;border-left: 1px solid gray;box-sizing: border-box;top: 0;bottom: 0;left: 50%;z-index: 0;}#sk-container-id-12 div.sk-serial {display: flex;flex-direction: column;align-items: center;background-color: white;padding-right: 0.2em;padding-left: 0.2em;position: relative;}#sk-container-id-12 div.sk-item {position: relative;z-index: 1;}#sk-container-id-12 div.sk-parallel {display: flex;align-items: stretch;justify-content: center;background-color: white;position: relative;}#sk-container-id-12 div.sk-item::before, #sk-container-id-12 div.sk-parallel-item::before {content: \"\";position: absolute;border-left: 1px solid gray;box-sizing: border-box;top: 0;bottom: 0;left: 50%;z-index: -1;}#sk-container-id-12 div.sk-parallel-item {display: flex;flex-direction: column;z-index: 1;position: relative;background-color: white;}#sk-container-id-12 div.sk-parallel-item:first-child::after {align-self: flex-end;width: 50%;}#sk-container-id-12 div.sk-parallel-item:last-child::after {align-self: flex-start;width: 50%;}#sk-container-id-12 div.sk-parallel-item:only-child::after {width: 0;}#sk-container-id-12 div.sk-dashed-wrapped {border: 1px dashed gray;margin: 0 0.4em 0.5em 0.4em;box-sizing: border-box;padding-bottom: 0.4em;background-color: white;}#sk-container-id-12 div.sk-label label {font-family: monospace;font-weight: bold;display: inline-block;line-height: 1.2em;}#sk-container-id-12 div.sk-label-container {text-align: center;}#sk-container-id-12 div.sk-container {/* jupyter's `normalize.less` sets `[hidden] { display: none; }` but bootstrap.min.css set `[hidden] { display: none !important; }` so we also need the `!important` here to be able to override the default hidden behavior on the sphinx rendered scikit-learn.org. See: https://github.com/scikit-learn/scikit-learn/issues/21755 */display: inline-block !important;position: relative;}#sk-container-id-12 div.sk-text-repr-fallback {display: none;}</style><div id=\"sk-container-id-12\" class=\"sk-top-container\"><div class=\"sk-text-repr-fallback\"><pre>AdaBoostRegressor(base_estimator=DecisionTreeRegressor(max_depth=1),\n",
       "                  learning_rate=0.1, random_state=42)</pre><b>In a Jupyter environment, please rerun this cell to show the HTML representation or trust the notebook. <br />On GitHub, the HTML representation is unable to render, please try loading this page with nbviewer.org.</b></div><div class=\"sk-container\" hidden><div class=\"sk-item sk-dashed-wrapped\"><div class=\"sk-label-container\"><div class=\"sk-label sk-toggleable\"><input class=\"sk-toggleable__control sk-hidden--visually\" id=\"sk-estimator-id-26\" type=\"checkbox\" ><label for=\"sk-estimator-id-26\" class=\"sk-toggleable__label sk-toggleable__label-arrow\">AdaBoostRegressor</label><div class=\"sk-toggleable__content\"><pre>AdaBoostRegressor(base_estimator=DecisionTreeRegressor(max_depth=1),\n",
       "                  learning_rate=0.1, random_state=42)</pre></div></div></div><div class=\"sk-parallel\"><div class=\"sk-parallel-item\"><div class=\"sk-item\"><div class=\"sk-label-container\"><div class=\"sk-label sk-toggleable\"><input class=\"sk-toggleable__control sk-hidden--visually\" id=\"sk-estimator-id-27\" type=\"checkbox\" ><label for=\"sk-estimator-id-27\" class=\"sk-toggleable__label sk-toggleable__label-arrow\">base_estimator: DecisionTreeRegressor</label><div class=\"sk-toggleable__content\"><pre>DecisionTreeRegressor(max_depth=1)</pre></div></div></div><div class=\"sk-serial\"><div class=\"sk-item\"><div class=\"sk-estimator sk-toggleable\"><input class=\"sk-toggleable__control sk-hidden--visually\" id=\"sk-estimator-id-28\" type=\"checkbox\" ><label for=\"sk-estimator-id-28\" class=\"sk-toggleable__label sk-toggleable__label-arrow\">DecisionTreeRegressor</label><div class=\"sk-toggleable__content\"><pre>DecisionTreeRegressor(max_depth=1)</pre></div></div></div></div></div></div></div></div></div></div>"
      ],
      "text/plain": [
       "AdaBoostRegressor(base_estimator=DecisionTreeRegressor(max_depth=1),\n",
       "                  learning_rate=0.1, random_state=42)"
      ]
     },
     "execution_count": 108,
     "metadata": {},
     "output_type": "execute_result"
    }
   ],
   "source": [
    "#Fitting the model with training dataset\n",
    "\n",
    "AB.fit(X_train2,y_train2)"
   ]
  },
  {
   "cell_type": "code",
   "execution_count": 109,
   "id": "bc0ca7ad-84ab-495e-b61e-74a116ff5bf7",
   "metadata": {},
   "outputs": [
    {
     "data": {
      "text/plain": [
       "0.10649403886967446"
      ]
     },
     "execution_count": 109,
     "metadata": {},
     "output_type": "execute_result"
    }
   ],
   "source": [
    "#Computing the coefficient of determination for training dataset\n",
    "\n",
    "AB.score(X_train2,y_train2)"
   ]
  },
  {
   "cell_type": "code",
   "execution_count": 111,
   "id": "bb1e220b-6d10-4013-ad8f-91c5a7b4faa2",
   "metadata": {},
   "outputs": [
    {
     "data": {
      "text/plain": [
       "-0.029749815924421386"
      ]
     },
     "execution_count": 111,
     "metadata": {},
     "output_type": "execute_result"
    }
   ],
   "source": [
    "#Computing the coefficient of determination for testing dataset\n",
    "\n",
    "AB.score(X_test2,y_test2)"
   ]
  },
  {
   "cell_type": "markdown",
   "id": "cb5b76c8-f546-493a-8494-e9c06a82109e",
   "metadata": {},
   "source": [
    "### RandomForestRegressor"
   ]
  },
  {
   "cell_type": "code",
   "execution_count": 112,
   "id": "f2910fef-7443-4d3a-a9c5-27731e37eb93",
   "metadata": {},
   "outputs": [
    {
     "data": {
      "text/html": [
       "<style>#sk-container-id-13 {color: black;background-color: white;}#sk-container-id-13 pre{padding: 0;}#sk-container-id-13 div.sk-toggleable {background-color: white;}#sk-container-id-13 label.sk-toggleable__label {cursor: pointer;display: block;width: 100%;margin-bottom: 0;padding: 0.3em;box-sizing: border-box;text-align: center;}#sk-container-id-13 label.sk-toggleable__label-arrow:before {content: \"▸\";float: left;margin-right: 0.25em;color: #696969;}#sk-container-id-13 label.sk-toggleable__label-arrow:hover:before {color: black;}#sk-container-id-13 div.sk-estimator:hover label.sk-toggleable__label-arrow:before {color: black;}#sk-container-id-13 div.sk-toggleable__content {max-height: 0;max-width: 0;overflow: hidden;text-align: left;background-color: #f0f8ff;}#sk-container-id-13 div.sk-toggleable__content pre {margin: 0.2em;color: black;border-radius: 0.25em;background-color: #f0f8ff;}#sk-container-id-13 input.sk-toggleable__control:checked~div.sk-toggleable__content {max-height: 200px;max-width: 100%;overflow: auto;}#sk-container-id-13 input.sk-toggleable__control:checked~label.sk-toggleable__label-arrow:before {content: \"▾\";}#sk-container-id-13 div.sk-estimator input.sk-toggleable__control:checked~label.sk-toggleable__label {background-color: #d4ebff;}#sk-container-id-13 div.sk-label input.sk-toggleable__control:checked~label.sk-toggleable__label {background-color: #d4ebff;}#sk-container-id-13 input.sk-hidden--visually {border: 0;clip: rect(1px 1px 1px 1px);clip: rect(1px, 1px, 1px, 1px);height: 1px;margin: -1px;overflow: hidden;padding: 0;position: absolute;width: 1px;}#sk-container-id-13 div.sk-estimator {font-family: monospace;background-color: #f0f8ff;border: 1px dotted black;border-radius: 0.25em;box-sizing: border-box;margin-bottom: 0.5em;}#sk-container-id-13 div.sk-estimator:hover {background-color: #d4ebff;}#sk-container-id-13 div.sk-parallel-item::after {content: \"\";width: 100%;border-bottom: 1px solid gray;flex-grow: 1;}#sk-container-id-13 div.sk-label:hover label.sk-toggleable__label {background-color: #d4ebff;}#sk-container-id-13 div.sk-serial::before {content: \"\";position: absolute;border-left: 1px solid gray;box-sizing: border-box;top: 0;bottom: 0;left: 50%;z-index: 0;}#sk-container-id-13 div.sk-serial {display: flex;flex-direction: column;align-items: center;background-color: white;padding-right: 0.2em;padding-left: 0.2em;position: relative;}#sk-container-id-13 div.sk-item {position: relative;z-index: 1;}#sk-container-id-13 div.sk-parallel {display: flex;align-items: stretch;justify-content: center;background-color: white;position: relative;}#sk-container-id-13 div.sk-item::before, #sk-container-id-13 div.sk-parallel-item::before {content: \"\";position: absolute;border-left: 1px solid gray;box-sizing: border-box;top: 0;bottom: 0;left: 50%;z-index: -1;}#sk-container-id-13 div.sk-parallel-item {display: flex;flex-direction: column;z-index: 1;position: relative;background-color: white;}#sk-container-id-13 div.sk-parallel-item:first-child::after {align-self: flex-end;width: 50%;}#sk-container-id-13 div.sk-parallel-item:last-child::after {align-self: flex-start;width: 50%;}#sk-container-id-13 div.sk-parallel-item:only-child::after {width: 0;}#sk-container-id-13 div.sk-dashed-wrapped {border: 1px dashed gray;margin: 0 0.4em 0.5em 0.4em;box-sizing: border-box;padding-bottom: 0.4em;background-color: white;}#sk-container-id-13 div.sk-label label {font-family: monospace;font-weight: bold;display: inline-block;line-height: 1.2em;}#sk-container-id-13 div.sk-label-container {text-align: center;}#sk-container-id-13 div.sk-container {/* jupyter's `normalize.less` sets `[hidden] { display: none; }` but bootstrap.min.css set `[hidden] { display: none !important; }` so we also need the `!important` here to be able to override the default hidden behavior on the sphinx rendered scikit-learn.org. See: https://github.com/scikit-learn/scikit-learn/issues/21755 */display: inline-block !important;position: relative;}#sk-container-id-13 div.sk-text-repr-fallback {display: none;}</style><div id=\"sk-container-id-13\" class=\"sk-top-container\"><div class=\"sk-text-repr-fallback\"><pre>RandomForestRegressor(random_state=42)</pre><b>In a Jupyter environment, please rerun this cell to show the HTML representation or trust the notebook. <br />On GitHub, the HTML representation is unable to render, please try loading this page with nbviewer.org.</b></div><div class=\"sk-container\" hidden><div class=\"sk-item\"><div class=\"sk-estimator sk-toggleable\"><input class=\"sk-toggleable__control sk-hidden--visually\" id=\"sk-estimator-id-29\" type=\"checkbox\" checked><label for=\"sk-estimator-id-29\" class=\"sk-toggleable__label sk-toggleable__label-arrow\">RandomForestRegressor</label><div class=\"sk-toggleable__content\"><pre>RandomForestRegressor(random_state=42)</pre></div></div></div></div></div>"
      ],
      "text/plain": [
       "RandomForestRegressor(random_state=42)"
      ]
     },
     "execution_count": 112,
     "metadata": {},
     "output_type": "execute_result"
    }
   ],
   "source": [
    "from sklearn.ensemble import RandomForestRegressor\n",
    "\n",
    "# Creating a RandomForestRegressor instance with 100 trees\n",
    "rf_reg=RandomForestRegressor(n_estimators=100,random_state=42)\n",
    "rf_reg"
   ]
  },
  {
   "cell_type": "code",
   "execution_count": 113,
   "id": "a3e1258a-3ea0-4615-9ee4-e9fe85041c9f",
   "metadata": {},
   "outputs": [],
   "source": [
    "#Fitting the model with training dataset\n",
    "rf_reg.fit(X_train2,y_train2) \n",
    "\n",
    "#Predicting the target variable with trained model\n",
    "\n",
    "y_pred=rf_reg.predict(X_test2)"
   ]
  },
  {
   "cell_type": "code",
   "execution_count": 114,
   "id": "f44c4007-cc73-47e7-9d78-b08786ed5f3c",
   "metadata": {},
   "outputs": [
    {
     "data": {
      "text/plain": [
       "0.9621067979222806"
      ]
     },
     "execution_count": 114,
     "metadata": {},
     "output_type": "execute_result"
    }
   ],
   "source": [
    "#Computing the Coefficient of Determination for training set\n",
    "rf_reg.score(X_train2,y_train2)"
   ]
  },
  {
   "cell_type": "code",
   "execution_count": 115,
   "id": "884f5789-a393-4f06-87a0-9cc9c873bbcc",
   "metadata": {},
   "outputs": [
    {
     "data": {
      "text/plain": [
       "0.5623949118876392"
      ]
     },
     "execution_count": 115,
     "metadata": {},
     "output_type": "execute_result"
    }
   ],
   "source": [
    "#Computing the Coefficient of Determination for testing set\n",
    "rf_reg.score(X_test2,y_test2)"
   ]
  }
 ],
 "metadata": {
  "kernelspec": {
   "display_name": "Python 3 (ipykernel)",
   "language": "python",
   "name": "python3"
  },
  "language_info": {
   "codemirror_mode": {
    "name": "ipython",
    "version": 3
   },
   "file_extension": ".py",
   "mimetype": "text/x-python",
   "name": "python",
   "nbconvert_exporter": "python",
   "pygments_lexer": "ipython3",
   "version": "3.11.7"
  }
 },
 "nbformat": 4,
 "nbformat_minor": 5
}
